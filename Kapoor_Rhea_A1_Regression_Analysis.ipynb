{
 "cells": [
  {
   "cell_type": "markdown",
   "id": "de09d0cf",
   "metadata": {},
   "source": [
    "# A2: Regression Model Development (Individual) </h2>\n",
    "\n",
    "## Introduction\n",
    "\n",
    "The following regression model and analysis is based on the Course Case : **Apprentice Chef, Inc.** <br>\n",
    "The company provides innovative solutions to busy professionals by delivering meal sets daily that take 30 minutes or less to prepare, including disposable cookware.\n",
    "\n",
    "## Models Tested\n",
    "\n",
    "For the purpose of this assignment, the models listed below were utilized and evaluated:\n",
    "\n",
    "- _statsmodels_\n",
    "    - OLS Regression\n",
    "    \n",
    "- _scikit-learn_\n",
    "    - Linear Regression\n",
    "    - Lasso Regression\n",
    "    - Ridge Regression\n",
    "    - ARD Regression\n",
    "    - CART Models: Decision Trees (Unpruned & Pruned)\n",
    "    - Random Forest (Unpruned & Pruned)\n",
    "    - Gradient Boosting Machines (Unpruned & Pruned)\n",
    "    \n",
    "\n",
    "## Assumptions\n",
    "\n",
    "1. As per the data dictionary, the feature \"LARGEST_ORDER_SIZE\" actually represents the AVERAGE number of meals    ordered per customer. Hence, it is considered as a continuous variable.\n",
    "\n",
    "2. The feature in the dataset labeled as \"AVG_MEAN_RATING\" is being assumed to be misspelled and denote average __meal__ rating instead. Also, considering the meal rating is in a shorter range of 1-5, we will treat it as an interval data type.\n",
    "\n",
    "3. For OLS regression, the data classified as interval or count has also been considered for the evaluation of the model (p-value) since the variables seem to be mostly continuous. \n",
    "\n",
    "\n",
    "## APA References\n",
    "\n",
    "1. McKinney. (2012, July 5). Renaming column names in Pandas. Stack Overflow. Retrieved February 19, 2023, from https://stackoverflow.com/questions/11346283/renaming-column-names-in-pandas\n",
    "\n",
    "2. Rochael. (2013, February 7). How to split a dataframe string column into two columns? Stack Overflow. Retrieved February 19, 2023, from https://stackoverflow.com/questions/14745022/how-to-split-a-dataframe-string-column-into-two-columns\n",
    "\n",
    "3. w3schools. (n.d.). Python String split() Method. Python String Split() Method. Retrieved February 19, 2023, from https://www.w3schools.com/python/ref_string_split.asp\n",
    " \n",
    " "
   ]
  },
  {
   "cell_type": "markdown",
   "id": "91e5dd85",
   "metadata": {},
   "source": [
    "---"
   ]
  },
  {
   "cell_type": "markdown",
   "id": "1ca2e969",
   "metadata": {},
   "source": [
    "## Part I : Exploratory Data Analysis "
   ]
  },
  {
   "cell_type": "markdown",
   "id": "8baddb7f",
   "metadata": {},
   "source": [
    "**1) Importing required modules and instantiating the dataset in Python:** "
   ]
  },
  {
   "cell_type": "code",
   "execution_count": 1,
   "id": "00ac6933",
   "metadata": {
    "scrolled": false
   },
   "outputs": [
    {
     "data": {
      "text/html": [
       "<div>\n",
       "<style scoped>\n",
       "    .dataframe tbody tr th:only-of-type {\n",
       "        vertical-align: middle;\n",
       "    }\n",
       "\n",
       "    .dataframe tbody tr th {\n",
       "        vertical-align: top;\n",
       "    }\n",
       "\n",
       "    .dataframe thead th {\n",
       "        text-align: right;\n",
       "    }\n",
       "</style>\n",
       "<table border=\"1\" class=\"dataframe\">\n",
       "  <thead>\n",
       "    <tr style=\"text-align: right;\">\n",
       "      <th></th>\n",
       "      <th>REVENUE</th>\n",
       "      <th>NAME</th>\n",
       "      <th>EMAIL</th>\n",
       "      <th>FIRST_NAME</th>\n",
       "      <th>FAMILY_NAME</th>\n",
       "      <th>TOTAL_MEALS_ORDERED</th>\n",
       "      <th>UNIQUE_MEALS_PURCH</th>\n",
       "      <th>CONTACTS_W_CUSTOMER_SERVICE</th>\n",
       "      <th>PRODUCT_CATEGORIES_VIEWED</th>\n",
       "      <th>AVG_TIME_PER_SITE_VISIT</th>\n",
       "      <th>CANCELLATIONS_AFTER_NOON</th>\n",
       "      <th>PC_LOGINS</th>\n",
       "      <th>MOBILE_LOGINS</th>\n",
       "      <th>WEEKLY_PLAN</th>\n",
       "      <th>LATE_DELIVERIES</th>\n",
       "      <th>AVG_PREP_VID_TIME</th>\n",
       "      <th>LARGEST_ORDER_SIZE</th>\n",
       "      <th>AVG_MEAN_RATING</th>\n",
       "      <th>TOTAL_PHOTOS_VIEWED</th>\n",
       "    </tr>\n",
       "  </thead>\n",
       "  <tbody>\n",
       "    <tr>\n",
       "      <th>0</th>\n",
       "      <td>4920.0</td>\n",
       "      <td>Steffon Baratheon</td>\n",
       "      <td>steffon.baratheon@yahoo.com</td>\n",
       "      <td>Steffon</td>\n",
       "      <td>Baratheon</td>\n",
       "      <td>493</td>\n",
       "      <td>9</td>\n",
       "      <td>1</td>\n",
       "      <td>10</td>\n",
       "      <td>265.6</td>\n",
       "      <td>5</td>\n",
       "      <td>5</td>\n",
       "      <td>2</td>\n",
       "      <td>0</td>\n",
       "      <td>0</td>\n",
       "      <td>137.41</td>\n",
       "      <td>6</td>\n",
       "      <td>2.894737</td>\n",
       "      <td>456</td>\n",
       "    </tr>\n",
       "    <tr>\n",
       "      <th>1</th>\n",
       "      <td>6150.0</td>\n",
       "      <td>Harlon Greyjoy</td>\n",
       "      <td>harlon.greyjoy@visa.com</td>\n",
       "      <td>Harlon</td>\n",
       "      <td>Greyjoy</td>\n",
       "      <td>361</td>\n",
       "      <td>9</td>\n",
       "      <td>1</td>\n",
       "      <td>6</td>\n",
       "      <td>247.0</td>\n",
       "      <td>2</td>\n",
       "      <td>5</td>\n",
       "      <td>1</td>\n",
       "      <td>0</td>\n",
       "      <td>0</td>\n",
       "      <td>120.20</td>\n",
       "      <td>5</td>\n",
       "      <td>2.631579</td>\n",
       "      <td>680</td>\n",
       "    </tr>\n",
       "    <tr>\n",
       "      <th>2</th>\n",
       "      <td>3435.0</td>\n",
       "      <td>Monster</td>\n",
       "      <td>monster@protonmail.com</td>\n",
       "      <td>Monster</td>\n",
       "      <td>Monster</td>\n",
       "      <td>278</td>\n",
       "      <td>6</td>\n",
       "      <td>1</td>\n",
       "      <td>4</td>\n",
       "      <td>164.4</td>\n",
       "      <td>0</td>\n",
       "      <td>6</td>\n",
       "      <td>1</td>\n",
       "      <td>5</td>\n",
       "      <td>0</td>\n",
       "      <td>127.00</td>\n",
       "      <td>3</td>\n",
       "      <td>3.684211</td>\n",
       "      <td>145</td>\n",
       "    </tr>\n",
       "    <tr>\n",
       "      <th>3</th>\n",
       "      <td>3330.0</td>\n",
       "      <td>Damon Lannister (lord)</td>\n",
       "      <td>damon.lannister.(lord)@yahoo.com</td>\n",
       "      <td>Damon</td>\n",
       "      <td>Lannister</td>\n",
       "      <td>269</td>\n",
       "      <td>8</td>\n",
       "      <td>1</td>\n",
       "      <td>2</td>\n",
       "      <td>176.0</td>\n",
       "      <td>5</td>\n",
       "      <td>5</td>\n",
       "      <td>2</td>\n",
       "      <td>0</td>\n",
       "      <td>0</td>\n",
       "      <td>129.78</td>\n",
       "      <td>6</td>\n",
       "      <td>3.157895</td>\n",
       "      <td>418</td>\n",
       "    </tr>\n",
       "    <tr>\n",
       "      <th>4</th>\n",
       "      <td>3427.5</td>\n",
       "      <td>Raynald Westerling</td>\n",
       "      <td>raynald.westerling@jnj.com</td>\n",
       "      <td>Raynald</td>\n",
       "      <td>Westerling</td>\n",
       "      <td>276</td>\n",
       "      <td>7</td>\n",
       "      <td>1</td>\n",
       "      <td>10</td>\n",
       "      <td>164.6</td>\n",
       "      <td>0</td>\n",
       "      <td>6</td>\n",
       "      <td>1</td>\n",
       "      <td>14</td>\n",
       "      <td>0</td>\n",
       "      <td>34.42</td>\n",
       "      <td>3</td>\n",
       "      <td>3.157895</td>\n",
       "      <td>174</td>\n",
       "    </tr>\n",
       "    <tr>\n",
       "      <th>5</th>\n",
       "      <td>2917.5</td>\n",
       "      <td>Rollam Westerling</td>\n",
       "      <td>rollam.westerling@jnj.com</td>\n",
       "      <td>Rollam</td>\n",
       "      <td>Westerling</td>\n",
       "      <td>246</td>\n",
       "      <td>7</td>\n",
       "      <td>1</td>\n",
       "      <td>2</td>\n",
       "      <td>240.3</td>\n",
       "      <td>1</td>\n",
       "      <td>5</td>\n",
       "      <td>1</td>\n",
       "      <td>20</td>\n",
       "      <td>0</td>\n",
       "      <td>240.90</td>\n",
       "      <td>8</td>\n",
       "      <td>4.473684</td>\n",
       "      <td>16</td>\n",
       "    </tr>\n",
       "    <tr>\n",
       "      <th>6</th>\n",
       "      <td>3901.5</td>\n",
       "      <td>Utt</td>\n",
       "      <td>utt@passport.com</td>\n",
       "      <td>Utt</td>\n",
       "      <td>Utt</td>\n",
       "      <td>316</td>\n",
       "      <td>10</td>\n",
       "      <td>1</td>\n",
       "      <td>5</td>\n",
       "      <td>183.8</td>\n",
       "      <td>2</td>\n",
       "      <td>5</td>\n",
       "      <td>2</td>\n",
       "      <td>46</td>\n",
       "      <td>4</td>\n",
       "      <td>140.01</td>\n",
       "      <td>6</td>\n",
       "      <td>3.157895</td>\n",
       "      <td>584</td>\n",
       "    </tr>\n",
       "    <tr>\n",
       "      <th>7</th>\n",
       "      <td>5000.0</td>\n",
       "      <td>Bandy</td>\n",
       "      <td>bandy@aol.com</td>\n",
       "      <td>Bandy</td>\n",
       "      <td>Bandy</td>\n",
       "      <td>251</td>\n",
       "      <td>10</td>\n",
       "      <td>1</td>\n",
       "      <td>1</td>\n",
       "      <td>269.6</td>\n",
       "      <td>4</td>\n",
       "      <td>5</td>\n",
       "      <td>2</td>\n",
       "      <td>40</td>\n",
       "      <td>0</td>\n",
       "      <td>143.00</td>\n",
       "      <td>8</td>\n",
       "      <td>2.894737</td>\n",
       "      <td>1095</td>\n",
       "    </tr>\n",
       "    <tr>\n",
       "      <th>8</th>\n",
       "      <td>3090.0</td>\n",
       "      <td>Rickard Karstark</td>\n",
       "      <td>rickard.karstark@live.com</td>\n",
       "      <td>Rickard</td>\n",
       "      <td>Karstark</td>\n",
       "      <td>256</td>\n",
       "      <td>7</td>\n",
       "      <td>1</td>\n",
       "      <td>5</td>\n",
       "      <td>218.4</td>\n",
       "      <td>2</td>\n",
       "      <td>6</td>\n",
       "      <td>1</td>\n",
       "      <td>30</td>\n",
       "      <td>0</td>\n",
       "      <td>120.34</td>\n",
       "      <td>6</td>\n",
       "      <td>2.894737</td>\n",
       "      <td>198</td>\n",
       "    </tr>\n",
       "    <tr>\n",
       "      <th>9</th>\n",
       "      <td>5745.0</td>\n",
       "      <td>Androw Frey</td>\n",
       "      <td>androw.frey@protonmail.com</td>\n",
       "      <td>Androw</td>\n",
       "      <td>Frey</td>\n",
       "      <td>297</td>\n",
       "      <td>8</td>\n",
       "      <td>1</td>\n",
       "      <td>6</td>\n",
       "      <td>266.8</td>\n",
       "      <td>1</td>\n",
       "      <td>6</td>\n",
       "      <td>1</td>\n",
       "      <td>32</td>\n",
       "      <td>0</td>\n",
       "      <td>140.88</td>\n",
       "      <td>8</td>\n",
       "      <td>2.894737</td>\n",
       "      <td>664</td>\n",
       "    </tr>\n",
       "  </tbody>\n",
       "</table>\n",
       "</div>"
      ],
      "text/plain": [
       "   REVENUE                    NAME                             EMAIL FIRST_NAME FAMILY_NAME  TOTAL_MEALS_ORDERED  UNIQUE_MEALS_PURCH  CONTACTS_W_CUSTOMER_SERVICE  PRODUCT_CATEGORIES_VIEWED  AVG_TIME_PER_SITE_VISIT  CANCELLATIONS_AFTER_NOON  PC_LOGINS  MOBILE_LOGINS  WEEKLY_PLAN  LATE_DELIVERIES   AVG_PREP_VID_TIME  LARGEST_ORDER_SIZE  AVG_MEAN_RATING  TOTAL_PHOTOS_VIEWED\n",
       "0   4920.0       Steffon Baratheon       steffon.baratheon@yahoo.com    Steffon   Baratheon                  493                   9                            1                         10                    265.6                         5          5              2            0                 0             137.41                   6         2.894737                  456\n",
       "1   6150.0          Harlon Greyjoy           harlon.greyjoy@visa.com     Harlon     Greyjoy                  361                   9                            1                          6                    247.0                         2          5              1            0                 0             120.20                   5         2.631579                  680\n",
       "2   3435.0                 Monster            monster@protonmail.com    Monster     Monster                  278                   6                            1                          4                    164.4                         0          6              1            5                 0             127.00                   3         3.684211                  145\n",
       "3   3330.0  Damon Lannister (lord)  damon.lannister.(lord)@yahoo.com      Damon  Lannister                   269                   8                            1                          2                    176.0                         5          5              2            0                 0             129.78                   6         3.157895                  418\n",
       "4   3427.5      Raynald Westerling        raynald.westerling@jnj.com    Raynald  Westerling                  276                   7                            1                         10                    164.6                         0          6              1           14                 0              34.42                   3         3.157895                  174\n",
       "5   2917.5       Rollam Westerling         rollam.westerling@jnj.com     Rollam  Westerling                  246                   7                            1                          2                    240.3                         1          5              1           20                 0             240.90                   8         4.473684                   16\n",
       "6   3901.5                     Utt                  utt@passport.com        Utt         Utt                  316                  10                            1                          5                    183.8                         2          5              2           46                 4             140.01                   6         3.157895                  584\n",
       "7   5000.0                   Bandy                     bandy@aol.com      Bandy       Bandy                  251                  10                            1                          1                    269.6                         4          5              2           40                 0             143.00                   8         2.894737                 1095\n",
       "8   3090.0        Rickard Karstark         rickard.karstark@live.com    Rickard    Karstark                  256                   7                            1                          5                    218.4                         2          6              1           30                 0             120.34                   6         2.894737                  198\n",
       "9   5745.0             Androw Frey        androw.frey@protonmail.com     Androw        Frey                  297                   8                            1                          6                    266.8                         1          6              1           32                 0             140.88                   8         2.894737                  664"
      ]
     },
     "execution_count": 1,
     "metadata": {},
     "output_type": "execute_result"
    }
   ],
   "source": [
    "# importing all the necessary libraries\n",
    "import pandas as pd                  # data science essentials\n",
    "import matplotlib.pyplot as plt      # essential graphical output\n",
    "import seaborn as sns                # enhanced graphical output\n",
    "\n",
    "\n",
    "# setting output display options for pandas\n",
    "pd.set_option('display.max_rows', 500)\n",
    "pd.set_option('display.max_columns', 500)\n",
    "pd.set_option('display.width', 1000)\n",
    "\n",
    "\n",
    "# creating a variable to specify the file name\n",
    "# Since the dataset exists in the same location as this notebook, we are not giving the full path for the location\n",
    "file = 'Apprentice_Chef_Dataset_2023.xlsx'      \n",
    "\n",
    "\n",
    "# Using pd.read_excel to read the file into Python\n",
    "chef = pd.read_excel(io = file , sheet_name = 0, header = 0)\n",
    "\n",
    "\n",
    "# outputting the first ten rows of the dataset\n",
    "chef.head(n = 10)"
   ]
  },
  {
   "cell_type": "markdown",
   "id": "d526f990",
   "metadata": {},
   "source": [
    "On further analysis, it was observed that the column \"LATE_DELIVERIES\" contained a trailing space in the original dataset, which was breaking the code in later stages. Hence, to avoid this, the column has been renamed using the df.rename function from Pandas."
   ]
  },
  {
   "cell_type": "code",
   "execution_count": 2,
   "id": "6039cf93",
   "metadata": {},
   "outputs": [],
   "source": [
    "# Renaming column \"LATE_DELIVERIES \" to \"LATE_DELIVERIES\"  (McKinney, 2012)\n",
    "chef.rename(columns={'LATE_DELIVERIES ': 'LATE_DELIVERIES'}, inplace=True)"
   ]
  },
  {
   "cell_type": "markdown",
   "id": "e93300bb",
   "metadata": {},
   "source": [
    "<br>"
   ]
  },
  {
   "cell_type": "markdown",
   "id": "1e229bee",
   "metadata": {},
   "source": [
    "**2) Printing basic information and descriptive statistics on the dataset:**"
   ]
  },
  {
   "cell_type": "code",
   "execution_count": 3,
   "id": "22cdcbb4",
   "metadata": {},
   "outputs": [
    {
     "name": "stdout",
     "output_type": "stream",
     "text": [
      "<class 'pandas.core.frame.DataFrame'>\n",
      "RangeIndex: 1946 entries, 0 to 1945\n",
      "Data columns (total 19 columns):\n",
      " #   Column                       Non-Null Count  Dtype  \n",
      "---  ------                       --------------  -----  \n",
      " 0   REVENUE                      1946 non-null   float64\n",
      " 1   NAME                         1946 non-null   object \n",
      " 2   EMAIL                        1946 non-null   object \n",
      " 3   FIRST_NAME                   1946 non-null   object \n",
      " 4   FAMILY_NAME                  1900 non-null   object \n",
      " 5   TOTAL_MEALS_ORDERED          1946 non-null   int64  \n",
      " 6   UNIQUE_MEALS_PURCH           1946 non-null   int64  \n",
      " 7   CONTACTS_W_CUSTOMER_SERVICE  1946 non-null   int64  \n",
      " 8   PRODUCT_CATEGORIES_VIEWED    1946 non-null   int64  \n",
      " 9   AVG_TIME_PER_SITE_VISIT      1946 non-null   float64\n",
      " 10  CANCELLATIONS_AFTER_NOON     1946 non-null   int64  \n",
      " 11  PC_LOGINS                    1946 non-null   int64  \n",
      " 12  MOBILE_LOGINS                1946 non-null   int64  \n",
      " 13  WEEKLY_PLAN                  1946 non-null   int64  \n",
      " 14  LATE_DELIVERIES              1946 non-null   int64  \n",
      " 15  AVG_PREP_VID_TIME            1946 non-null   float64\n",
      " 16  LARGEST_ORDER_SIZE           1946 non-null   int64  \n",
      " 17  AVG_MEAN_RATING              1946 non-null   float64\n",
      " 18  TOTAL_PHOTOS_VIEWED          1946 non-null   int64  \n",
      "dtypes: float64(4), int64(11), object(4)\n",
      "memory usage: 289.0+ KB\n"
     ]
    }
   ],
   "source": [
    "# printing the information (datatypes and non-missing values) about the chef dataframe\n",
    "chef.info(verbose = True)"
   ]
  },
  {
   "cell_type": "code",
   "execution_count": 4,
   "id": "980e26d9",
   "metadata": {},
   "outputs": [
    {
     "name": "stdout",
     "output_type": "stream",
     "text": [
      "\n",
      "Size of Original Dataset\n",
      "------------------------\n",
      "Observations: 1946\n",
      "Features:     19\n",
      "\n"
     ]
    }
   ],
   "source": [
    "# printing the number of rows(observations) and columns(features) in the dataset\n",
    "print(f\"\"\"\n",
    "Size of Original Dataset\n",
    "------------------------\n",
    "Observations: {chef.shape[0]}\n",
    "Features:     {chef.shape[1]}\n",
    "\"\"\")"
   ]
  },
  {
   "cell_type": "code",
   "execution_count": 5,
   "id": "ce31ab25",
   "metadata": {},
   "outputs": [
    {
     "data": {
      "text/html": [
       "<div>\n",
       "<style scoped>\n",
       "    .dataframe tbody tr th:only-of-type {\n",
       "        vertical-align: middle;\n",
       "    }\n",
       "\n",
       "    .dataframe tbody tr th {\n",
       "        vertical-align: top;\n",
       "    }\n",
       "\n",
       "    .dataframe thead th {\n",
       "        text-align: right;\n",
       "    }\n",
       "</style>\n",
       "<table border=\"1\" class=\"dataframe\">\n",
       "  <thead>\n",
       "    <tr style=\"text-align: right;\">\n",
       "      <th></th>\n",
       "      <th>REVENUE</th>\n",
       "      <th>TOTAL_MEALS_ORDERED</th>\n",
       "      <th>UNIQUE_MEALS_PURCH</th>\n",
       "      <th>CONTACTS_W_CUSTOMER_SERVICE</th>\n",
       "      <th>PRODUCT_CATEGORIES_VIEWED</th>\n",
       "      <th>AVG_TIME_PER_SITE_VISIT</th>\n",
       "      <th>CANCELLATIONS_AFTER_NOON</th>\n",
       "      <th>PC_LOGINS</th>\n",
       "      <th>MOBILE_LOGINS</th>\n",
       "      <th>WEEKLY_PLAN</th>\n",
       "      <th>LATE_DELIVERIES</th>\n",
       "      <th>AVG_PREP_VID_TIME</th>\n",
       "      <th>LARGEST_ORDER_SIZE</th>\n",
       "      <th>AVG_MEAN_RATING</th>\n",
       "      <th>TOTAL_PHOTOS_VIEWED</th>\n",
       "    </tr>\n",
       "  </thead>\n",
       "  <tbody>\n",
       "    <tr>\n",
       "      <th>count</th>\n",
       "      <td>1946.00</td>\n",
       "      <td>1946.00</td>\n",
       "      <td>1946.00</td>\n",
       "      <td>1946.0</td>\n",
       "      <td>1946.00</td>\n",
       "      <td>1946.00</td>\n",
       "      <td>1946.00</td>\n",
       "      <td>1946.00</td>\n",
       "      <td>1946.00</td>\n",
       "      <td>1946.00</td>\n",
       "      <td>1946.00</td>\n",
       "      <td>1946.00</td>\n",
       "      <td>1946.00</td>\n",
       "      <td>1946.00</td>\n",
       "      <td>1946.00</td>\n",
       "    </tr>\n",
       "    <tr>\n",
       "      <th>mean</th>\n",
       "      <td>2107.29</td>\n",
       "      <td>74.63</td>\n",
       "      <td>6.98</td>\n",
       "      <td>4.9</td>\n",
       "      <td>5.38</td>\n",
       "      <td>150.56</td>\n",
       "      <td>1.57</td>\n",
       "      <td>5.52</td>\n",
       "      <td>1.48</td>\n",
       "      <td>11.33</td>\n",
       "      <td>2.05</td>\n",
       "      <td>99.60</td>\n",
       "      <td>4.44</td>\n",
       "      <td>3.55</td>\n",
       "      <td>113.15</td>\n",
       "    </tr>\n",
       "    <tr>\n",
       "      <th>std</th>\n",
       "      <td>1138.29</td>\n",
       "      <td>55.31</td>\n",
       "      <td>2.28</td>\n",
       "      <td>2.5</td>\n",
       "      <td>3.04</td>\n",
       "      <td>49.45</td>\n",
       "      <td>1.61</td>\n",
       "      <td>0.58</td>\n",
       "      <td>0.53</td>\n",
       "      <td>13.57</td>\n",
       "      <td>3.79</td>\n",
       "      <td>62.34</td>\n",
       "      <td>1.55</td>\n",
       "      <td>0.61</td>\n",
       "      <td>177.15</td>\n",
       "    </tr>\n",
       "    <tr>\n",
       "      <th>min</th>\n",
       "      <td>131.00</td>\n",
       "      <td>11.00</td>\n",
       "      <td>1.00</td>\n",
       "      <td>1.0</td>\n",
       "      <td>1.00</td>\n",
       "      <td>33.40</td>\n",
       "      <td>0.00</td>\n",
       "      <td>4.00</td>\n",
       "      <td>0.00</td>\n",
       "      <td>0.00</td>\n",
       "      <td>0.00</td>\n",
       "      <td>10.33</td>\n",
       "      <td>1.00</td>\n",
       "      <td>1.32</td>\n",
       "      <td>1.00</td>\n",
       "    </tr>\n",
       "    <tr>\n",
       "      <th>25%</th>\n",
       "      <td>1350.00</td>\n",
       "      <td>39.00</td>\n",
       "      <td>5.00</td>\n",
       "      <td>3.0</td>\n",
       "      <td>3.00</td>\n",
       "      <td>114.40</td>\n",
       "      <td>0.00</td>\n",
       "      <td>5.00</td>\n",
       "      <td>1.00</td>\n",
       "      <td>1.00</td>\n",
       "      <td>0.00</td>\n",
       "      <td>72.00</td>\n",
       "      <td>3.00</td>\n",
       "      <td>3.16</td>\n",
       "      <td>10.00</td>\n",
       "    </tr>\n",
       "    <tr>\n",
       "      <th>50%</th>\n",
       "      <td>1740.00</td>\n",
       "      <td>60.00</td>\n",
       "      <td>7.00</td>\n",
       "      <td>5.0</td>\n",
       "      <td>5.00</td>\n",
       "      <td>145.60</td>\n",
       "      <td>1.00</td>\n",
       "      <td>6.00</td>\n",
       "      <td>1.00</td>\n",
       "      <td>7.00</td>\n",
       "      <td>0.00</td>\n",
       "      <td>94.16</td>\n",
       "      <td>4.00</td>\n",
       "      <td>3.42</td>\n",
       "      <td>17.00</td>\n",
       "    </tr>\n",
       "    <tr>\n",
       "      <th>75%</th>\n",
       "      <td>2670.00</td>\n",
       "      <td>95.00</td>\n",
       "      <td>8.00</td>\n",
       "      <td>7.0</td>\n",
       "      <td>8.00</td>\n",
       "      <td>173.78</td>\n",
       "      <td>2.00</td>\n",
       "      <td>6.00</td>\n",
       "      <td>2.00</td>\n",
       "      <td>13.00</td>\n",
       "      <td>3.00</td>\n",
       "      <td>117.29</td>\n",
       "      <td>5.00</td>\n",
       "      <td>3.95</td>\n",
       "      <td>174.00</td>\n",
       "    </tr>\n",
       "    <tr>\n",
       "      <th>max</th>\n",
       "      <td>8793.75</td>\n",
       "      <td>493.00</td>\n",
       "      <td>18.00</td>\n",
       "      <td>19.0</td>\n",
       "      <td>10.00</td>\n",
       "      <td>564.20</td>\n",
       "      <td>13.00</td>\n",
       "      <td>7.00</td>\n",
       "      <td>3.00</td>\n",
       "      <td>52.00</td>\n",
       "      <td>18.00</td>\n",
       "      <td>1645.60</td>\n",
       "      <td>11.00</td>\n",
       "      <td>5.00</td>\n",
       "      <td>1600.00</td>\n",
       "    </tr>\n",
       "  </tbody>\n",
       "</table>\n",
       "</div>"
      ],
      "text/plain": [
       "       REVENUE  TOTAL_MEALS_ORDERED  UNIQUE_MEALS_PURCH  CONTACTS_W_CUSTOMER_SERVICE  PRODUCT_CATEGORIES_VIEWED  AVG_TIME_PER_SITE_VISIT  CANCELLATIONS_AFTER_NOON  PC_LOGINS  MOBILE_LOGINS  WEEKLY_PLAN  LATE_DELIVERIES  AVG_PREP_VID_TIME  LARGEST_ORDER_SIZE  AVG_MEAN_RATING  TOTAL_PHOTOS_VIEWED\n",
       "count  1946.00              1946.00             1946.00                       1946.0                    1946.00                  1946.00                   1946.00    1946.00        1946.00      1946.00          1946.00            1946.00             1946.00          1946.00              1946.00\n",
       "mean   2107.29                74.63                6.98                          4.9                       5.38                   150.56                      1.57       5.52           1.48        11.33             2.05              99.60                4.44             3.55               113.15\n",
       "std    1138.29                55.31                2.28                          2.5                       3.04                    49.45                      1.61       0.58           0.53        13.57             3.79              62.34                1.55             0.61               177.15\n",
       "min     131.00                11.00                1.00                          1.0                       1.00                    33.40                      0.00       4.00           0.00         0.00             0.00              10.33                1.00             1.32                 1.00\n",
       "25%    1350.00                39.00                5.00                          3.0                       3.00                   114.40                      0.00       5.00           1.00         1.00             0.00              72.00                3.00             3.16                10.00\n",
       "50%    1740.00                60.00                7.00                          5.0                       5.00                   145.60                      1.00       6.00           1.00         7.00             0.00              94.16                4.00             3.42                17.00\n",
       "75%    2670.00                95.00                8.00                          7.0                       8.00                   173.78                      2.00       6.00           2.00        13.00             3.00             117.29                5.00             3.95               174.00\n",
       "max    8793.75               493.00               18.00                         19.0                      10.00                   564.20                     13.00       7.00           3.00        52.00            18.00            1645.60               11.00             5.00              1600.00"
      ]
     },
     "execution_count": 5,
     "metadata": {},
     "output_type": "execute_result"
    }
   ],
   "source": [
    "# printing descriptive statistics\n",
    "chef.describe().round(decimals = 2)"
   ]
  },
  {
   "cell_type": "markdown",
   "id": "5696f0d6",
   "metadata": {},
   "source": [
    "<br>"
   ]
  },
  {
   "cell_type": "markdown",
   "id": "0e67685f",
   "metadata": {},
   "source": [
    "**3) Analyzing the original Distribution of Revenue:**"
   ]
  },
  {
   "cell_type": "code",
   "execution_count": 6,
   "id": "6881019b",
   "metadata": {},
   "outputs": [
    {
     "data": {
      "image/png": "[encoded data removed]",
      "text/plain": [
       "<Figure size 640x480 with 1 Axes>"
      ]
     },
     "metadata": {},
     "output_type": "display_data"
    }
   ],
   "source": [
    "# developing a histogram using HISTPLOT function from seaborn\n",
    "sns.histplot(data  = chef,\n",
    "         x     = 'REVENUE',\n",
    "        kde    = True) #bell curve/ normal distribution\n",
    "\n",
    "\n",
    "# title and axis labels\n",
    "plt.title(label   = \"Original Distribution of Revenues\")\n",
    "plt.xlabel(xlabel = \"Revenue\") # avoiding using dataset labels\n",
    "plt.ylabel(ylabel = \"Count\") \n",
    "\n",
    "\n",
    "# displaying the histogram\n",
    "plt.show()"
   ]
  },
  {
   "cell_type": "markdown",
   "id": "1d8d6e56",
   "metadata": {},
   "source": [
    "**Analysis:** Based on the above histogram, it can be observed that revenues are positively skewed since it has a longer tail towards the right, which means that there are more extreme values on the high end of the distribution.\n",
    "This can also be seen from the following code:"
   ]
  },
  {
   "cell_type": "code",
   "execution_count": 7,
   "id": "d782134a",
   "metadata": {},
   "outputs": [
    {
     "data": {
      "text/plain": [
       "1.63"
      ]
     },
     "execution_count": 7,
     "metadata": {},
     "output_type": "execute_result"
    }
   ],
   "source": [
    "# checking skewness of REVENUE\n",
    "chef['REVENUE'].skew().round(decimals = 2)"
   ]
  },
  {
   "cell_type": "markdown",
   "id": "0d9a467f",
   "metadata": {},
   "source": [
    "A skewness value of 1.63 is moderately skewed, and it suggests that there are some outliers or extreme values in the 'REVENUE' variable."
   ]
  },
  {
   "cell_type": "markdown",
   "id": "3b7c6d55",
   "metadata": {},
   "source": [
    "<br>"
   ]
  },
  {
   "cell_type": "markdown",
   "id": "c0db82c5",
   "metadata": {},
   "source": [
    "**4) Identifying data types and correlations between x and y variables:**"
   ]
  },
  {
   "cell_type": "code",
   "execution_count": 8,
   "id": "ca6acca2",
   "metadata": {},
   "outputs": [],
   "source": [
    "# Creating lists to group the features into Interval/Count, Continuous and Categorical data types\n",
    "\n",
    "#REVENUE is also a continuous variable, however for the ease of analysis has not been included in the below list\n",
    "continuous_data = ['REVENUE','AVG_TIME_PER_SITE_VISIT','AVG_PREP_VID_TIME',\n",
    "                   'LARGEST_ORDER_SIZE']\n",
    "\n",
    "count_data = ['AVG_MEAN_RATING','TOTAL_MEALS_ORDERED', 'UNIQUE_MEALS_PURCH','CONTACTS_W_CUSTOMER_SERVICE',\n",
    "              'PRODUCT_CATEGORIES_VIEWED','CANCELLATIONS_AFTER_NOON','PC_LOGINS','MOBILE_LOGINS',\n",
    "              'WEEKLY_PLAN','LATE_DELIVERIES','TOTAL_PHOTOS_VIEWED']\n",
    "\n",
    "categorical_data = ['NAME', 'EMAIL', 'FIRST_NAME', 'FAMILY_NAME']\n"
   ]
  },
  {
   "cell_type": "markdown",
   "id": "04df193d",
   "metadata": {},
   "source": [
    "We will use **\"REVENUE\"** as our response/ dependent variable (y-variable) and the other features as our independent/ explanatory variables (x-variables). Through the course of our EDA, we will identify all the explanatory variables that will have an impact on revenue.<br>\n",
    "Since a linear model assumes that all variables of the model are usually continuous, we will first understand the correlation between Revenue and the other continuous variables defined above."
   ]
  },
  {
   "cell_type": "code",
   "execution_count": 9,
   "id": "3480b065",
   "metadata": {},
   "outputs": [
    {
     "data": {
      "text/plain": [
       "REVENUE                    1.00\n",
       "AVG_TIME_PER_SITE_VISIT    0.64\n",
       "LARGEST_ORDER_SIZE         0.44\n",
       "AVG_PREP_VID_TIME          0.14\n",
       "Name: REVENUE, dtype: float64"
      ]
     },
     "execution_count": 9,
     "metadata": {},
     "output_type": "execute_result"
    }
   ],
   "source": [
    "# developing a correlation matrix based on continuous features\n",
    "chef_corr = chef[continuous_data].corr(method = 'pearson')\n",
    "\n",
    "\n",
    "# filtering the results to only show correlations with REVENUE\n",
    "chef_corr.loc[ : , 'REVENUE'].round(decimals = 2).sort_values(ascending = False)\n"
   ]
  },
  {
   "cell_type": "markdown",
   "id": "bb761257",
   "metadata": {},
   "source": [
    "**Analysis:** The above correlation matrix shows that \"AVG_TIME_PER_SITE_VISIT\" has relatively the highest positive correlation with revenue. This suggests that as the average time per site visit increases, so does the revenue generated.\n",
    "The correlation coefficient between 'REVENUE' and 'LARGEST_ORDER_SIZE' is 0.44, which indicates a weaker positive correlation. This suggests that there is a positive relationship between the largest order size and the revenue generated, but the relationship is not as strong as the one between 'REVENUE' and 'AVG_TIME_PER_SITE_VISIT'. <br>\n",
    "To analyze further, we will create a scatter plots between Revenue and \"AVG_TIME_PER_SITE_VISIT\"."
   ]
  },
  {
   "cell_type": "code",
   "execution_count": 10,
   "id": "7b752627",
   "metadata": {
    "cell_style": "center"
   },
   "outputs": [
    {
     "data": {
      "image/png": "[encoded data removed]",
      "text/plain": [
       "<Figure size 900x600 with 1 Axes>"
      ]
     },
     "metadata": {},
     "output_type": "display_data"
    }
   ],
   "source": [
    "# Scatter plot between Revenue and AVG_TIME_PER_SITE_VISIT\n",
    "# setting figure size\n",
    "fig, ax = plt.subplots(figsize = (9, 6))\n",
    "\n",
    "\n",
    "# creating the scatterplot\n",
    "sns.scatterplot(x    = 'AVG_TIME_PER_SITE_VISIT',\n",
    "                y    = 'REVENUE',\n",
    "                data = chef\n",
    "                )\n",
    "\n",
    "# showing the results\n",
    "plt.show()"
   ]
  },
  {
   "cell_type": "markdown",
   "id": "2c094727",
   "metadata": {},
   "source": [
    "<br>"
   ]
  },
  {
   "cell_type": "markdown",
   "id": "d2efd053",
   "metadata": {},
   "source": [
    "**5) Building a Base Model (OLS Regression):**"
   ]
  },
  {
   "cell_type": "markdown",
   "id": "8078a791",
   "metadata": {},
   "source": [
    "We will build a basic linear model using the OLS function from statsmodels to find the best fit for x-variables that have an impact on our y- variable. <br>\n",
    "We will consider data that was classified as continuous and count for this purpose (Refer Assumption-3)."
   ]
  },
  {
   "cell_type": "code",
   "execution_count": 11,
   "id": "c81ded18",
   "metadata": {},
   "outputs": [
    {
     "data": {
      "text/plain": [
       "REVENUE                        1.00\n",
       "AVG_TIME_PER_SITE_VISIT        0.64\n",
       "TOTAL_MEALS_ORDERED            0.60\n",
       "TOTAL_PHOTOS_VIEWED            0.46\n",
       "LARGEST_ORDER_SIZE             0.44\n",
       "CONTACTS_W_CUSTOMER_SERVICE    0.17\n",
       "AVG_PREP_VID_TIME              0.14\n",
       "UNIQUE_MEALS_PURCH             0.10\n",
       "MOBILE_LOGINS                  0.07\n",
       "PRODUCT_CATEGORIES_VIEWED      0.03\n",
       "PC_LOGINS                      0.02\n",
       "WEEKLY_PLAN                    0.01\n",
       "CANCELLATIONS_AFTER_NOON       0.00\n",
       "LATE_DELIVERIES               -0.02\n",
       "AVG_MEAN_RATING               -0.55\n",
       "Name: REVENUE, dtype: float64"
      ]
     },
     "execution_count": 11,
     "metadata": {},
     "output_type": "execute_result"
    }
   ],
   "source": [
    "# Checking correlation between all continuous and interval data with REVENUE\n",
    "\n",
    "int_cont_data = ['REVENUE','AVG_TIME_PER_SITE_VISIT','AVG_PREP_VID_TIME',\n",
    "                   'LARGEST_ORDER_SIZE', 'AVG_MEAN_RATING','TOTAL_MEALS_ORDERED', 'UNIQUE_MEALS_PURCH','CONTACTS_W_CUSTOMER_SERVICE',\n",
    "              'PRODUCT_CATEGORIES_VIEWED','CANCELLATIONS_AFTER_NOON','PC_LOGINS','MOBILE_LOGINS',\n",
    "              'WEEKLY_PLAN','LATE_DELIVERIES','TOTAL_PHOTOS_VIEWED']\n",
    "\n",
    "# developing a correlation matrix based on continuous features\n",
    "chef_corr1 = chef[int_cont_data].corr(method = 'pearson')\n",
    "\n",
    "\n",
    "# filtering the results to only show correlations with REVENUE\n",
    "#chef_corr1.loc[ : , 'REVENUE'].round(decimals = 2).sort_values(ascending = False)\n",
    "chef_corr1.loc[ : , 'REVENUE'].round(decimals = 2).sort_values(ascending = False)"
   ]
  },
  {
   "cell_type": "markdown",
   "id": "c22b3be4",
   "metadata": {},
   "source": [
    "**Analysis:** Looking at the above matrix, we can see that the variable with the strongest positive correlation with REVENUE is AVG_TIME_PER_SITE_VISIT, with a coefficient of 0.64. Other variables with relatively strong positive correlations with REVENUE include TOTAL_MEALS_ORDERED (0.60), TOTAL_PHOTOS_VIEWED (0.46), and LARGEST_ORDER_SIZE (0.44).<br>\n",
    "On the other hand, the variable with the strongest negative correlation with REVENUE is AVG_MEAN_RATING, with a coefficient of -0.55. This suggests that lower average ratings are associated with lower revenue.<br>"
   ]
  },
  {
   "cell_type": "code",
   "execution_count": 12,
   "id": "2a355232",
   "metadata": {},
   "outputs": [],
   "source": [
    "# importing statsmodel for ols regression\n",
    "import statsmodels.formula.api as smf "
   ]
  },
  {
   "cell_type": "markdown",
   "id": "319d57d9",
   "metadata": {},
   "source": [
    "We will create the best fit R-squared based on the best combination of existing features that optimize both R-squared and adjusted R-squared:"
   ]
  },
  {
   "cell_type": "code",
   "execution_count": 13,
   "id": "7a2ef6a6",
   "metadata": {},
   "outputs": [
    {
     "name": "stdout",
     "output_type": "stream",
     "text": [
      "                            OLS Regression Results                            \n",
      "==============================================================================\n",
      "Dep. Variable:                REVENUE   R-squared:                       0.605\n",
      "Model:                            OLS   Adj. R-squared:                  0.604\n",
      "Method:                 Least Squares   F-statistic:                     594.7\n",
      "Date:                Sun, 19 Feb 2023   Prob (F-statistic):               0.00\n",
      "Time:                        17:42:15   Log-Likelihood:                -15551.\n",
      "No. Observations:                1946   AIC:                         3.111e+04\n",
      "Df Residuals:                    1940   BIC:                         3.115e+04\n",
      "Df Model:                           5                                         \n",
      "Covariance Type:            nonrobust                                         \n",
      "===============================================================================================\n",
      "                                  coef    std err          t      P>|t|      [0.025      0.975]\n",
      "-----------------------------------------------------------------------------------------------\n",
      "Intercept                    1392.6602    154.326      9.024      0.000    1089.998    1695.323\n",
      "AVG_TIME_PER_SITE_VISIT        11.8966      0.611     19.479      0.000      10.699      13.094\n",
      "TOTAL_MEALS_ORDERED             6.7092      0.351     19.101      0.000       6.020       7.398\n",
      "AVG_MEAN_RATING              -399.8282     31.206    -12.812      0.000    -461.029    -338.627\n",
      "LARGEST_ORDER_SIZE           -124.1108     17.595     -7.054      0.000    -158.618     -89.603\n",
      "CONTACTS_W_CUSTOMER_SERVICE    80.4919      6.559     12.272      0.000      67.628      93.355\n",
      "==============================================================================\n",
      "Omnibus:                      680.057   Durbin-Watson:                   1.515\n",
      "Prob(Omnibus):                  0.000   Jarque-Bera (JB):             7227.712\n",
      "Skew:                           1.329   Prob(JB):                         0.00\n",
      "Kurtosis:                      12.059   Cond. No.                     1.73e+03\n",
      "==============================================================================\n",
      "\n",
      "Notes:\n",
      "[1] Standard Errors assume that the covariance matrix of the errors is correctly specified.\n",
      "[2] The condition number is large, 1.73e+03. This might indicate that there are\n",
      "strong multicollinearity or other numerical problems.\n"
     ]
    }
   ],
   "source": [
    "# Step 1: Instantiating a linear model \n",
    "lm_best = smf.ols(formula = \"\"\"REVENUE ~ AVG_TIME_PER_SITE_VISIT + \n",
    "                                         TOTAL_MEALS_ORDERED +\n",
    "                                         AVG_MEAN_RATING +\n",
    "                                         LARGEST_ORDER_SIZE+\n",
    "                                         CONTACTS_W_CUSTOMER_SERVICE\n",
    "                                    \n",
    "                                         \n",
    "                            \"\"\", # x-variable ~ y-variable\n",
    "                  data = chef)\n",
    "\n",
    "\n",
    "# Step 2: fitting the data into the model \n",
    "results = lm_best.fit() # creates the best fit line\n",
    "\n",
    "\n",
    "# Step 3: analyzing the summary output \n",
    "print(results.summary())"
   ]
  },
  {
   "cell_type": "markdown",
   "id": "13424287",
   "metadata": {},
   "source": [
    "**Analysis:** As we can see from the above results of OLS regression, the combination of the features AVG_TIME_PER_SITE_VISIT, TOTAL_MEALS_ORDERED, AVG_MEAN_RATING, LARGEST_ORDER_SIZE and CONTACTS_W_CUSTOMER_SERVICE seem to be a good fit for the regression model as a starting point. This can be inferred from the values of R-squared and adj. R-squared, which have a value of 0.605 and 0.604 respectively. There is very minimal difference between both these values. <br>\n",
    "Additionally, the overall model seems to be statistically significant, as indicated by the F-statistic and the associated p-value."
   ]
  },
  {
   "cell_type": "markdown",
   "id": "29e637dd",
   "metadata": {},
   "source": [
    "<br>"
   ]
  },
  {
   "cell_type": "markdown",
   "id": "6c13bdb9",
   "metadata": {},
   "source": [
    "## Part II : Transformations and Feature Engineering "
   ]
  },
  {
   "cell_type": "markdown",
   "id": "83a83c4f",
   "metadata": {},
   "source": [
    "**1) Identifying and imputing missing values for features:**"
   ]
  },
  {
   "cell_type": "code",
   "execution_count": 14,
   "id": "e135a85f",
   "metadata": {},
   "outputs": [
    {
     "name": "stdout",
     "output_type": "stream",
     "text": [
      "<class 'pandas.core.frame.DataFrame'>\n",
      "RangeIndex: 1946 entries, 0 to 1945\n",
      "Data columns (total 19 columns):\n",
      " #   Column                       Non-Null Count  Dtype  \n",
      "---  ------                       --------------  -----  \n",
      " 0   REVENUE                      1946 non-null   float64\n",
      " 1   NAME                         1946 non-null   object \n",
      " 2   EMAIL                        1946 non-null   object \n",
      " 3   FIRST_NAME                   1946 non-null   object \n",
      " 4   FAMILY_NAME                  1900 non-null   object \n",
      " 5   TOTAL_MEALS_ORDERED          1946 non-null   int64  \n",
      " 6   UNIQUE_MEALS_PURCH           1946 non-null   int64  \n",
      " 7   CONTACTS_W_CUSTOMER_SERVICE  1946 non-null   int64  \n",
      " 8   PRODUCT_CATEGORIES_VIEWED    1946 non-null   int64  \n",
      " 9   AVG_TIME_PER_SITE_VISIT      1946 non-null   float64\n",
      " 10  CANCELLATIONS_AFTER_NOON     1946 non-null   int64  \n",
      " 11  PC_LOGINS                    1946 non-null   int64  \n",
      " 12  MOBILE_LOGINS                1946 non-null   int64  \n",
      " 13  WEEKLY_PLAN                  1946 non-null   int64  \n",
      " 14  LATE_DELIVERIES              1946 non-null   int64  \n",
      " 15  AVG_PREP_VID_TIME            1946 non-null   float64\n",
      " 16  LARGEST_ORDER_SIZE           1946 non-null   int64  \n",
      " 17  AVG_MEAN_RATING              1946 non-null   float64\n",
      " 18  TOTAL_PHOTOS_VIEWED          1946 non-null   int64  \n",
      "dtypes: float64(4), int64(11), object(4)\n",
      "memory usage: 289.0+ KB\n"
     ]
    }
   ],
   "source": [
    "# identifying columns with missing values\n",
    "chef.info()"
   ]
  },
  {
   "cell_type": "code",
   "execution_count": 15,
   "id": "b7514d5e",
   "metadata": {},
   "outputs": [
    {
     "data": {
      "text/plain": [
       "REVENUE                         0\n",
       "NAME                            0\n",
       "EMAIL                           0\n",
       "FIRST_NAME                      0\n",
       "FAMILY_NAME                    46\n",
       "TOTAL_MEALS_ORDERED             0\n",
       "UNIQUE_MEALS_PURCH              0\n",
       "CONTACTS_W_CUSTOMER_SERVICE     0\n",
       "PRODUCT_CATEGORIES_VIEWED       0\n",
       "AVG_TIME_PER_SITE_VISIT         0\n",
       "CANCELLATIONS_AFTER_NOON        0\n",
       "PC_LOGINS                       0\n",
       "MOBILE_LOGINS                   0\n",
       "WEEKLY_PLAN                     0\n",
       "LATE_DELIVERIES                 0\n",
       "AVG_PREP_VID_TIME               0\n",
       "LARGEST_ORDER_SIZE              0\n",
       "AVG_MEAN_RATING                 0\n",
       "TOTAL_PHOTOS_VIEWED             0\n",
       "dtype: int64"
      ]
     },
     "execution_count": 15,
     "metadata": {},
     "output_type": "execute_result"
    }
   ],
   "source": [
    "# Aggregating the number of missing values for each column in the dataset\n",
    "mv = chef.isnull().sum(axis = 0) #.sum(axis = 0) # axis means rows or columns\n",
    "mv"
   ]
  },
  {
   "cell_type": "markdown",
   "id": "b8d59b22",
   "metadata": {},
   "source": [
    " As we can see from the above information, missing values exist only in the feature \"FAMILY_NAME\". Being a categorical variable that is not likely to have much of an impact on our response variable (Revenue), we can just create a flag for the feature and ignore it for the purpose of developing our model."
   ]
  },
  {
   "cell_type": "code",
   "execution_count": 16,
   "id": "887e5c98",
   "metadata": {},
   "outputs": [
    {
     "data": {
      "text/plain": [
       "46"
      ]
     },
     "execution_count": 16,
     "metadata": {},
     "output_type": "execute_result"
    }
   ],
   "source": [
    "# Flagging the missing family name by creating a new column: m_FAMILY_NAME\n",
    "chef['m_FAMILY_NAME'] = chef['FAMILY_NAME'].isnull().astype(int)\n",
    "\n",
    "# checking the results of the above \n",
    "chef['m_FAMILY_NAME'].sum(axis = 0)"
   ]
  },
  {
   "cell_type": "markdown",
   "id": "c36612db",
   "metadata": {},
   "source": [
    " While this will not be used for our model, as a good practice, a new column has been created to identify the observations that contain missing values."
   ]
  },
  {
   "cell_type": "markdown",
   "id": "611bf3c3",
   "metadata": {},
   "source": [
    "<br>"
   ]
  },
  {
   "cell_type": "markdown",
   "id": "7808473b",
   "metadata": {},
   "source": [
    "**2) Logarithmic Transformation of Variables:**"
   ]
  },
  {
   "cell_type": "code",
   "execution_count": 17,
   "id": "e0f176b1",
   "metadata": {},
   "outputs": [],
   "source": [
    "# importing numpy for performing transformations\n",
    "import numpy as np\n",
    "\n",
    "# log transforming REVENUE and saving it to the dataset using np.log\n",
    "chef['log_REVENUE'] = np.log(chef['REVENUE'])   "
   ]
  },
  {
   "cell_type": "markdown",
   "id": "1e903035",
   "metadata": {},
   "source": [
    "Let us now create a histogram to check the logarithmic distribution of Revenue as below:"
   ]
  },
  {
   "cell_type": "code",
   "execution_count": 18,
   "id": "f3a4eebc",
   "metadata": {},
   "outputs": [
    {
     "data": {
      "image/png": "[encoded data removed]",
      "text/plain": [
       "<Figure size 640x480 with 1 Axes>"
      ]
     },
     "metadata": {},
     "output_type": "display_data"
    }
   ],
   "source": [
    "# developing a histogram using HISTPLOT\n",
    "sns.histplot(data   = chef,\n",
    "          x      = 'log_REVENUE',\n",
    "          kde    = True)\n",
    "\n",
    "\n",
    "# title and axis labels\n",
    "plt.title(label   = \"Logarithmic Distribution of Revenues\")\n",
    "plt.xlabel(xlabel = \"Revenue\") # avoiding using dataset labels\n",
    "plt.ylabel(ylabel = \"Count\")\n",
    "\n",
    "# displaying the histogram\n",
    "plt.show()"
   ]
  },
  {
   "cell_type": "code",
   "execution_count": 19,
   "id": "81a8e06b",
   "metadata": {},
   "outputs": [
    {
     "data": {
      "text/plain": [
       "REVENUE        1.626573\n",
       "log_REVENUE    0.184090\n",
       "dtype: float64"
      ]
     },
     "execution_count": 19,
     "metadata": {},
     "output_type": "execute_result"
    }
   ],
   "source": [
    "# checking the skewness of the Revenue vs Log_Revenue\n",
    "chef[['REVENUE', 'log_REVENUE']].skew()"
   ]
  },
  {
   "cell_type": "markdown",
   "id": "87d58b67",
   "metadata": {},
   "source": [
    "**Analysis:** As we can see from the above code, the skewness of revenue has drastically improved and can result in being a better fit for our base model. <br>\n",
    "Hence, going forward, we will use log_REVENUE as our response variable instead of REVENUE."
   ]
  },
  {
   "cell_type": "code",
   "execution_count": 20,
   "id": "e3d51b22",
   "metadata": {},
   "outputs": [
    {
     "name": "stdout",
     "output_type": "stream",
     "text": [
      "                            OLS Regression Results                            \n",
      "==============================================================================\n",
      "Dep. Variable:            log_REVENUE   R-squared:                       0.628\n",
      "Model:                            OLS   Adj. R-squared:                  0.627\n",
      "Method:                 Least Squares   F-statistic:                     654.1\n",
      "Date:                Sun, 19 Feb 2023   Prob (F-statistic):               0.00\n",
      "Time:                        17:42:15   Log-Likelihood:                -402.03\n",
      "No. Observations:                1946   AIC:                             816.1\n",
      "Df Residuals:                    1940   BIC:                             849.5\n",
      "Df Model:                           5                                         \n",
      "Covariance Type:            nonrobust                                         \n",
      "===============================================================================================\n",
      "                                  coef    std err          t      P>|t|      [0.025      0.975]\n",
      "-----------------------------------------------------------------------------------------------\n",
      "Intercept                       7.3006      0.064    113.706      0.000       7.175       7.426\n",
      "AVG_TIME_PER_SITE_VISIT         0.0049      0.000     19.361      0.000       0.004       0.005\n",
      "TOTAL_MEALS_ORDERED             0.0029      0.000     19.749      0.000       0.003       0.003\n",
      "AVG_MEAN_RATING                -0.1923      0.013    -14.808      0.000      -0.218      -0.167\n",
      "LARGEST_ORDER_SIZE             -0.0484      0.007     -6.607      0.000      -0.063      -0.034\n",
      "CONTACTS_W_CUSTOMER_SERVICE     0.0350      0.003     12.835      0.000       0.030       0.040\n",
      "==============================================================================\n",
      "Omnibus:                      255.292   Durbin-Watson:                   1.600\n",
      "Prob(Omnibus):                  0.000   Jarque-Bera (JB):             1436.462\n",
      "Skew:                          -0.476   Prob(JB):                         0.00\n",
      "Kurtosis:                       7.100   Cond. No.                     1.73e+03\n",
      "==============================================================================\n",
      "\n",
      "Notes:\n",
      "[1] Standard Errors assume that the covariance matrix of the errors is correctly specified.\n",
      "[2] The condition number is large, 1.73e+03. This might indicate that there are\n",
      "strong multicollinearity or other numerical problems.\n"
     ]
    }
   ],
   "source": [
    "# Re-evaluating our base model using log_REVENUE instead of REVENUE\n",
    "\n",
    "# Step 1: Instantiating a linear model \n",
    "lm_best = smf.ols(formula = \"\"\"log_REVENUE ~ AVG_TIME_PER_SITE_VISIT + \n",
    "                                         TOTAL_MEALS_ORDERED +\n",
    "                                         AVG_MEAN_RATING +\n",
    "                                         LARGEST_ORDER_SIZE+\n",
    "                                         CONTACTS_W_CUSTOMER_SERVICE\n",
    "                                    \n",
    "                                         \n",
    "                            \"\"\", # x-variable ~ y-variable\n",
    "                  data = chef)\n",
    "\n",
    "\n",
    "# Step 2: fitting the data into the model \n",
    "results = lm_best.fit() # creates the best fit line\n",
    "\n",
    "\n",
    "# Step 3: analyzing the summary output \n",
    "print(results.summary())"
   ]
  },
  {
   "cell_type": "markdown",
   "id": "ef13cf2a",
   "metadata": {},
   "source": [
    "**Analysis:** The value of R-squared and adj. R-squared have improved in comparison to our base model. <br> <br>\n",
    "We will now try to create similar transformations for our continuous variables and then fit it into the base model to check if there is an improvement in the explainability of the dependent variable."
   ]
  },
  {
   "cell_type": "code",
   "execution_count": 21,
   "id": "e3ec5f22",
   "metadata": {
    "cell_style": "split"
   },
   "outputs": [
    {
     "data": {
      "image/png": "[encoded data removed]",
      "text/plain": [
       "<Figure size 640x480 with 1 Axes>"
      ]
     },
     "metadata": {},
     "output_type": "display_data"
    }
   ],
   "source": [
    "# log transforming AVG_TIME_PER_SITE_VISIT and saving it to the dataset using np.log\n",
    "chef['log_AVG_TIME_PER_SITE_VISIT'] = np.log(chef['AVG_TIME_PER_SITE_VISIT'])   \n",
    "\n",
    "# developing a histogram using HISTPLOT\n",
    "sns.histplot(data   = chef,\n",
    "          x      = 'log_AVG_TIME_PER_SITE_VISIT',\n",
    "          kde    = True)\n",
    "\n",
    "\n",
    "# title and axis labels\n",
    "plt.title(label   = \"Logarithmic Distribution of Average time per site visit\")\n",
    "plt.xlabel(xlabel = \"Average time per site visit\") # avoiding using dataset labels\n",
    "plt.ylabel(ylabel = \"Count\")\n",
    "\n",
    "# displaying the histogram\n",
    "plt.show()"
   ]
  },
  {
   "cell_type": "code",
   "execution_count": 22,
   "id": "468181c8",
   "metadata": {
    "cell_style": "split"
   },
   "outputs": [
    {
     "data": {
      "image/png": "[encoded data removed]",
      "text/plain": [
       "<Figure size 640x480 with 1 Axes>"
      ]
     },
     "metadata": {},
     "output_type": "display_data"
    }
   ],
   "source": [
    "# log transforming LARGEST_ORDER_SIZE and saving it to the dataset using np.log\n",
    "chef['log_LARGEST_ORDER_SIZE'] = np.log(chef['LARGEST_ORDER_SIZE'])   \n",
    "\n",
    "# developing a histogram using HISTPLOT\n",
    "sns.histplot(data   = chef,\n",
    "          x      = 'log_LARGEST_ORDER_SIZE',\n",
    "          kde    = True)\n",
    "\n",
    "\n",
    "# title and axis labels\n",
    "plt.title(label   = \"Logarithmic Distribution of Largest Order size\")\n",
    "plt.xlabel(xlabel = \"Average time per site visit\") # avoiding using dataset labels\n",
    "plt.ylabel(ylabel = \"Count\")\n",
    "\n",
    "# displaying the histogram\n",
    "plt.show()"
   ]
  },
  {
   "cell_type": "code",
   "execution_count": 23,
   "id": "880b4709",
   "metadata": {
    "cell_style": "center"
   },
   "outputs": [
    {
     "data": {
      "text/plain": [
       "AVG_TIME_PER_SITE_VISIT        1.200283\n",
       "log_AVG_TIME_PER_SITE_VISIT   -0.063739\n",
       "dtype: float64"
      ]
     },
     "execution_count": 23,
     "metadata": {},
     "output_type": "execute_result"
    }
   ],
   "source": [
    "# checking the skewness of the AVG_TIME_PER_SITE_VISIT vs Log_AVG_TIME_PER_SITE_VISIT\n",
    "chef[['AVG_TIME_PER_SITE_VISIT', 'log_AVG_TIME_PER_SITE_VISIT']].skew()"
   ]
  },
  {
   "cell_type": "code",
   "execution_count": 24,
   "id": "3ef0786b",
   "metadata": {
    "cell_style": "center"
   },
   "outputs": [
    {
     "data": {
      "text/plain": [
       "LARGEST_ORDER_SIZE        0.703995\n",
       "log_LARGEST_ORDER_SIZE   -0.597503\n",
       "dtype: float64"
      ]
     },
     "execution_count": 24,
     "metadata": {},
     "output_type": "execute_result"
    }
   ],
   "source": [
    "# checking the skewness of the LARGEST_ORDER_SIZE vs log_LARGEST_ORDER_SIZE\n",
    "chef[['LARGEST_ORDER_SIZE', 'log_LARGEST_ORDER_SIZE']].skew()"
   ]
  },
  {
   "cell_type": "markdown",
   "id": "ec5ceeaa",
   "metadata": {},
   "source": [
    "As can be seen from the skewness results above, a significant change can only be seen for \"AVG_TIME_PER_SITE_VISIT\". Hence, we will use the log form of the variable to test our model. "
   ]
  },
  {
   "cell_type": "code",
   "execution_count": 25,
   "id": "3c4a2446",
   "metadata": {},
   "outputs": [
    {
     "name": "stdout",
     "output_type": "stream",
     "text": [
      "                            OLS Regression Results                            \n",
      "==============================================================================\n",
      "Dep. Variable:            log_REVENUE   R-squared:                       0.645\n",
      "Model:                            OLS   Adj. R-squared:                  0.644\n",
      "Method:                 Least Squares   F-statistic:                     705.4\n",
      "Date:                Sun, 19 Feb 2023   Prob (F-statistic):               0.00\n",
      "Time:                        17:42:15   Log-Likelihood:                -355.33\n",
      "No. Observations:                1946   AIC:                             722.7\n",
      "Df Residuals:                    1940   BIC:                             756.1\n",
      "Df Model:                           5                                         \n",
      "Covariance Type:            nonrobust                                         \n",
      "===============================================================================================\n",
      "                                  coef    std err          t      P>|t|      [0.025      0.975]\n",
      "-----------------------------------------------------------------------------------------------\n",
      "Intercept                       3.8405      0.185     20.731      0.000       3.477       4.204\n",
      "log_AVG_TIME_PER_SITE_VISIT     0.8481      0.038     22.106      0.000       0.773       0.923\n",
      "TOTAL_MEALS_ORDERED             0.0028      0.000     19.963      0.000       0.003       0.003\n",
      "AVG_MEAN_RATING                -0.1783      0.013    -13.980      0.000      -0.203      -0.153\n",
      "LARGEST_ORDER_SIZE             -0.0602      0.007     -8.445      0.000      -0.074      -0.046\n",
      "CONTACTS_W_CUSTOMER_SERVICE     0.0346      0.003     12.981      0.000       0.029       0.040\n",
      "==============================================================================\n",
      "Omnibus:                      140.440   Durbin-Watson:                   1.566\n",
      "Prob(Omnibus):                  0.000   Jarque-Bera (JB):              514.313\n",
      "Skew:                          -0.275   Prob(JB):                    2.08e-112\n",
      "Kurtosis:                       5.458   Cond. No.                     2.67e+03\n",
      "==============================================================================\n",
      "\n",
      "Notes:\n",
      "[1] Standard Errors assume that the covariance matrix of the errors is correctly specified.\n",
      "[2] The condition number is large, 2.67e+03. This might indicate that there are\n",
      "strong multicollinearity or other numerical problems.\n"
     ]
    }
   ],
   "source": [
    "# Re-evaluating our base model using logarithmic transformation\n",
    "\n",
    "# Step 1: Instantiating a linear model \n",
    "lm_best = smf.ols(formula = \"\"\"log_REVENUE ~ log_AVG_TIME_PER_SITE_VISIT + \n",
    "                                         TOTAL_MEALS_ORDERED +\n",
    "                                         AVG_MEAN_RATING +\n",
    "                                         LARGEST_ORDER_SIZE+\n",
    "                                         CONTACTS_W_CUSTOMER_SERVICE\n",
    "                                    \n",
    "                                         \n",
    "                            \"\"\", # x-variable ~ y-variable\n",
    "                  data = chef)\n",
    "\n",
    "\n",
    "# Step 2: fitting the data into the model \n",
    "results = lm_best.fit() # creates the best fit line\n",
    "\n",
    "\n",
    "# Step 3: analyzing the summary output \n",
    "print(results.summary())"
   ]
  },
  {
   "cell_type": "markdown",
   "id": "99f87744",
   "metadata": {},
   "source": [
    "<br>"
   ]
  },
  {
   "cell_type": "markdown",
   "id": "cb1a3e4c",
   "metadata": {},
   "source": [
    "**3) Engineering features for Categorical Data:**"
   ]
  },
  {
   "cell_type": "markdown",
   "id": "9a24d665",
   "metadata": {},
   "source": [
    "Based on information received from the Marketing Team, there are different email response rates based on a customer’s email domain group. \n",
    "We can use this information to create a new feature and classify the email domains into the groups:\n",
    "- Professional\n",
    "- Personal\n",
    "- Junk"
   ]
  },
  {
   "cell_type": "code",
   "execution_count": 26,
   "id": "1b3d6477",
   "metadata": {},
   "outputs": [
    {
     "data": {
      "text/html": [
       "<div>\n",
       "<style scoped>\n",
       "    .dataframe tbody tr th:only-of-type {\n",
       "        vertical-align: middle;\n",
       "    }\n",
       "\n",
       "    .dataframe tbody tr th {\n",
       "        vertical-align: top;\n",
       "    }\n",
       "\n",
       "    .dataframe thead th {\n",
       "        text-align: right;\n",
       "    }\n",
       "</style>\n",
       "<table border=\"1\" class=\"dataframe\">\n",
       "  <thead>\n",
       "    <tr style=\"text-align: right;\">\n",
       "      <th></th>\n",
       "      <th>REVENUE</th>\n",
       "      <th>NAME</th>\n",
       "      <th>EMAIL</th>\n",
       "      <th>FIRST_NAME</th>\n",
       "      <th>FAMILY_NAME</th>\n",
       "      <th>TOTAL_MEALS_ORDERED</th>\n",
       "      <th>UNIQUE_MEALS_PURCH</th>\n",
       "      <th>CONTACTS_W_CUSTOMER_SERVICE</th>\n",
       "      <th>PRODUCT_CATEGORIES_VIEWED</th>\n",
       "      <th>AVG_TIME_PER_SITE_VISIT</th>\n",
       "      <th>CANCELLATIONS_AFTER_NOON</th>\n",
       "      <th>PC_LOGINS</th>\n",
       "      <th>MOBILE_LOGINS</th>\n",
       "      <th>WEEKLY_PLAN</th>\n",
       "      <th>LATE_DELIVERIES</th>\n",
       "      <th>AVG_PREP_VID_TIME</th>\n",
       "      <th>LARGEST_ORDER_SIZE</th>\n",
       "      <th>AVG_MEAN_RATING</th>\n",
       "      <th>TOTAL_PHOTOS_VIEWED</th>\n",
       "      <th>m_FAMILY_NAME</th>\n",
       "      <th>log_REVENUE</th>\n",
       "      <th>log_AVG_TIME_PER_SITE_VISIT</th>\n",
       "      <th>log_LARGEST_ORDER_SIZE</th>\n",
       "      <th>EMAIL_DOMAIN</th>\n",
       "      <th>EMAIL_GROUP</th>\n",
       "    </tr>\n",
       "  </thead>\n",
       "  <tbody>\n",
       "    <tr>\n",
       "      <th>0</th>\n",
       "      <td>4920.0</td>\n",
       "      <td>Steffon Baratheon</td>\n",
       "      <td>steffon.baratheon@yahoo.com</td>\n",
       "      <td>Steffon</td>\n",
       "      <td>Baratheon</td>\n",
       "      <td>493</td>\n",
       "      <td>9</td>\n",
       "      <td>1</td>\n",
       "      <td>10</td>\n",
       "      <td>265.6</td>\n",
       "      <td>5</td>\n",
       "      <td>5</td>\n",
       "      <td>2</td>\n",
       "      <td>0</td>\n",
       "      <td>0</td>\n",
       "      <td>137.41</td>\n",
       "      <td>6</td>\n",
       "      <td>2.894737</td>\n",
       "      <td>456</td>\n",
       "      <td>0</td>\n",
       "      <td>8.501064</td>\n",
       "      <td>5.581991</td>\n",
       "      <td>1.791759</td>\n",
       "      <td>yahoo.com</td>\n",
       "      <td>Personal</td>\n",
       "    </tr>\n",
       "    <tr>\n",
       "      <th>1</th>\n",
       "      <td>6150.0</td>\n",
       "      <td>Harlon Greyjoy</td>\n",
       "      <td>harlon.greyjoy@visa.com</td>\n",
       "      <td>Harlon</td>\n",
       "      <td>Greyjoy</td>\n",
       "      <td>361</td>\n",
       "      <td>9</td>\n",
       "      <td>1</td>\n",
       "      <td>6</td>\n",
       "      <td>247.0</td>\n",
       "      <td>2</td>\n",
       "      <td>5</td>\n",
       "      <td>1</td>\n",
       "      <td>0</td>\n",
       "      <td>0</td>\n",
       "      <td>120.20</td>\n",
       "      <td>5</td>\n",
       "      <td>2.631579</td>\n",
       "      <td>680</td>\n",
       "      <td>0</td>\n",
       "      <td>8.724207</td>\n",
       "      <td>5.509388</td>\n",
       "      <td>1.609438</td>\n",
       "      <td>visa.com</td>\n",
       "      <td>Professional</td>\n",
       "    </tr>\n",
       "    <tr>\n",
       "      <th>2</th>\n",
       "      <td>3435.0</td>\n",
       "      <td>Monster</td>\n",
       "      <td>monster@protonmail.com</td>\n",
       "      <td>Monster</td>\n",
       "      <td>Monster</td>\n",
       "      <td>278</td>\n",
       "      <td>6</td>\n",
       "      <td>1</td>\n",
       "      <td>4</td>\n",
       "      <td>164.4</td>\n",
       "      <td>0</td>\n",
       "      <td>6</td>\n",
       "      <td>1</td>\n",
       "      <td>5</td>\n",
       "      <td>0</td>\n",
       "      <td>127.00</td>\n",
       "      <td>3</td>\n",
       "      <td>3.684211</td>\n",
       "      <td>145</td>\n",
       "      <td>0</td>\n",
       "      <td>8.141772</td>\n",
       "      <td>5.102302</td>\n",
       "      <td>1.098612</td>\n",
       "      <td>protonmail.com</td>\n",
       "      <td>Personal</td>\n",
       "    </tr>\n",
       "    <tr>\n",
       "      <th>3</th>\n",
       "      <td>3330.0</td>\n",
       "      <td>Damon Lannister (lord)</td>\n",
       "      <td>damon.lannister.(lord)@yahoo.com</td>\n",
       "      <td>Damon</td>\n",
       "      <td>Lannister</td>\n",
       "      <td>269</td>\n",
       "      <td>8</td>\n",
       "      <td>1</td>\n",
       "      <td>2</td>\n",
       "      <td>176.0</td>\n",
       "      <td>5</td>\n",
       "      <td>5</td>\n",
       "      <td>2</td>\n",
       "      <td>0</td>\n",
       "      <td>0</td>\n",
       "      <td>129.78</td>\n",
       "      <td>6</td>\n",
       "      <td>3.157895</td>\n",
       "      <td>418</td>\n",
       "      <td>0</td>\n",
       "      <td>8.110728</td>\n",
       "      <td>5.170484</td>\n",
       "      <td>1.791759</td>\n",
       "      <td>yahoo.com</td>\n",
       "      <td>Personal</td>\n",
       "    </tr>\n",
       "    <tr>\n",
       "      <th>4</th>\n",
       "      <td>3427.5</td>\n",
       "      <td>Raynald Westerling</td>\n",
       "      <td>raynald.westerling@jnj.com</td>\n",
       "      <td>Raynald</td>\n",
       "      <td>Westerling</td>\n",
       "      <td>276</td>\n",
       "      <td>7</td>\n",
       "      <td>1</td>\n",
       "      <td>10</td>\n",
       "      <td>164.6</td>\n",
       "      <td>0</td>\n",
       "      <td>6</td>\n",
       "      <td>1</td>\n",
       "      <td>14</td>\n",
       "      <td>0</td>\n",
       "      <td>34.42</td>\n",
       "      <td>3</td>\n",
       "      <td>3.157895</td>\n",
       "      <td>174</td>\n",
       "      <td>0</td>\n",
       "      <td>8.139586</td>\n",
       "      <td>5.103518</td>\n",
       "      <td>1.098612</td>\n",
       "      <td>jnj.com</td>\n",
       "      <td>Professional</td>\n",
       "    </tr>\n",
       "  </tbody>\n",
       "</table>\n",
       "</div>"
      ],
      "text/plain": [
       "   REVENUE                    NAME                             EMAIL FIRST_NAME FAMILY_NAME  TOTAL_MEALS_ORDERED  UNIQUE_MEALS_PURCH  CONTACTS_W_CUSTOMER_SERVICE  PRODUCT_CATEGORIES_VIEWED  AVG_TIME_PER_SITE_VISIT  CANCELLATIONS_AFTER_NOON  PC_LOGINS  MOBILE_LOGINS  WEEKLY_PLAN  LATE_DELIVERIES  AVG_PREP_VID_TIME  LARGEST_ORDER_SIZE  AVG_MEAN_RATING  TOTAL_PHOTOS_VIEWED  m_FAMILY_NAME  log_REVENUE  log_AVG_TIME_PER_SITE_VISIT  log_LARGEST_ORDER_SIZE    EMAIL_DOMAIN   EMAIL_GROUP\n",
       "0   4920.0       Steffon Baratheon       steffon.baratheon@yahoo.com    Steffon   Baratheon                  493                   9                            1                         10                    265.6                         5          5              2            0                0             137.41                   6         2.894737                  456              0     8.501064                     5.581991                1.791759       yahoo.com      Personal\n",
       "1   6150.0          Harlon Greyjoy           harlon.greyjoy@visa.com     Harlon     Greyjoy                  361                   9                            1                          6                    247.0                         2          5              1            0                0             120.20                   5         2.631579                  680              0     8.724207                     5.509388                1.609438        visa.com  Professional\n",
       "2   3435.0                 Monster            monster@protonmail.com    Monster     Monster                  278                   6                            1                          4                    164.4                         0          6              1            5                0             127.00                   3         3.684211                  145              0     8.141772                     5.102302                1.098612  protonmail.com      Personal\n",
       "3   3330.0  Damon Lannister (lord)  damon.lannister.(lord)@yahoo.com      Damon  Lannister                   269                   8                            1                          2                    176.0                         5          5              2            0                0             129.78                   6         3.157895                  418              0     8.110728                     5.170484                1.791759       yahoo.com      Personal\n",
       "4   3427.5      Raynald Westerling        raynald.westerling@jnj.com    Raynald  Westerling                  276                   7                            1                         10                    164.6                         0          6              1           14                0              34.42                   3         3.157895                  174              0     8.139586                     5.103518                1.098612         jnj.com  Professional"
      ]
     },
     "execution_count": 26,
     "metadata": {},
     "output_type": "execute_result"
    }
   ],
   "source": [
    "# Creating lists for professional, personal and junk based on marketing team's data\n",
    "\n",
    "prof = [\"mmm.com\", \"amex.com\", \"apple.com\", \"boeing.com\", \"caterpillar.com\",\n",
    "    \"chevron.com\", \"cisco.com\", \"cocacola.com\", \"disney.com\", \"dupont.com\",\n",
    "    \"exxon.com\", \"ge.org\", \"goldmansacs.com\", \"homedepot.com\", \"ibm.com\",\n",
    "    \"intel.com\", \"jnj.com\", \"jpmorgan.com\", \"mcdonalds.com\", \"merck.com\",\n",
    "    \"microsoft.com\", \"nike.com\", \"pfizer.com\", \"pg.com\", \"travelers.com\",\n",
    "    \"unitedtech.com\", \"unitedhealth.com\", \"verizon.com\", \"visa.com\",\n",
    "    \"walmart.com\"]\n",
    "\n",
    "personal = [\"gmail.com\", \"yahoo.com\", \"protonmail.com\"]\n",
    "\n",
    "junk = [\"me.com\", \"aol.com\", \"hotmail.com\", \"live.com\", \"msn.com\", \"passport.com\"]\n",
    "\n",
    "# Splitting the domain names in our observation using '@' separator and string.split() function\n",
    "# (Rochael, 2013), (w3schools, n.d.)\n",
    "\n",
    "chef['EMAIL_DOMAIN'] = chef['EMAIL'].str.split('@', expand = True)[1]\n",
    "\n",
    "# Creating the column 'EMAIL_GROUP' to classify into Professional, Personal or Junk\n",
    "chef['EMAIL_GROUP'] = ''\n",
    "\n",
    "# Iterating over each observation to populate the group in the above column\n",
    "for index, value in chef.iterrows():\n",
    "\n",
    "    if chef.loc[index, 'EMAIL_DOMAIN'] in prof:\n",
    "        chef.loc[index, 'EMAIL_GROUP'] = 'Professional'\n",
    "    elif chef.loc[index, 'EMAIL_DOMAIN'] in personal:\n",
    "        chef.loc[index, 'EMAIL_GROUP'] = 'Personal'\n",
    "    elif chef.loc[index, 'EMAIL_DOMAIN'] in junk:\n",
    "        chef.loc[index, 'EMAIL_GROUP'] = 'Junk'\n",
    "    else:\n",
    "        chef.loc[index, 'EMAIL_GROUP'] = 'Unknown'\n",
    "\n",
    "# Checking the results of the above for loop\n",
    "chef.head(n=5)\n"
   ]
  },
  {
   "cell_type": "markdown",
   "id": "2a0a2484",
   "metadata": {},
   "source": [
    "We will now perform one hot encoding for the EMAIL_GROUP feature to split it into 3 columns- Junk, Professional and Personal so that we can use them as variables for our model."
   ]
  },
  {
   "cell_type": "code",
   "execution_count": 27,
   "id": "842ce3d6",
   "metadata": {},
   "outputs": [
    {
     "data": {
      "text/html": [
       "<div>\n",
       "<style scoped>\n",
       "    .dataframe tbody tr th:only-of-type {\n",
       "        vertical-align: middle;\n",
       "    }\n",
       "\n",
       "    .dataframe tbody tr th {\n",
       "        vertical-align: top;\n",
       "    }\n",
       "\n",
       "    .dataframe thead th {\n",
       "        text-align: right;\n",
       "    }\n",
       "</style>\n",
       "<table border=\"1\" class=\"dataframe\">\n",
       "  <thead>\n",
       "    <tr style=\"text-align: right;\">\n",
       "      <th></th>\n",
       "      <th>REVENUE</th>\n",
       "      <th>NAME</th>\n",
       "      <th>EMAIL</th>\n",
       "      <th>FIRST_NAME</th>\n",
       "      <th>FAMILY_NAME</th>\n",
       "      <th>TOTAL_MEALS_ORDERED</th>\n",
       "      <th>UNIQUE_MEALS_PURCH</th>\n",
       "      <th>CONTACTS_W_CUSTOMER_SERVICE</th>\n",
       "      <th>PRODUCT_CATEGORIES_VIEWED</th>\n",
       "      <th>AVG_TIME_PER_SITE_VISIT</th>\n",
       "      <th>CANCELLATIONS_AFTER_NOON</th>\n",
       "      <th>PC_LOGINS</th>\n",
       "      <th>MOBILE_LOGINS</th>\n",
       "      <th>WEEKLY_PLAN</th>\n",
       "      <th>LATE_DELIVERIES</th>\n",
       "      <th>AVG_PREP_VID_TIME</th>\n",
       "      <th>LARGEST_ORDER_SIZE</th>\n",
       "      <th>AVG_MEAN_RATING</th>\n",
       "      <th>TOTAL_PHOTOS_VIEWED</th>\n",
       "      <th>m_FAMILY_NAME</th>\n",
       "      <th>log_REVENUE</th>\n",
       "      <th>log_AVG_TIME_PER_SITE_VISIT</th>\n",
       "      <th>log_LARGEST_ORDER_SIZE</th>\n",
       "      <th>EMAIL_DOMAIN</th>\n",
       "      <th>Junk</th>\n",
       "      <th>Personal</th>\n",
       "      <th>Professional</th>\n",
       "    </tr>\n",
       "  </thead>\n",
       "  <tbody>\n",
       "    <tr>\n",
       "      <th>0</th>\n",
       "      <td>4920.0</td>\n",
       "      <td>Steffon Baratheon</td>\n",
       "      <td>steffon.baratheon@yahoo.com</td>\n",
       "      <td>Steffon</td>\n",
       "      <td>Baratheon</td>\n",
       "      <td>493</td>\n",
       "      <td>9</td>\n",
       "      <td>1</td>\n",
       "      <td>10</td>\n",
       "      <td>265.6</td>\n",
       "      <td>5</td>\n",
       "      <td>5</td>\n",
       "      <td>2</td>\n",
       "      <td>0</td>\n",
       "      <td>0</td>\n",
       "      <td>137.41</td>\n",
       "      <td>6</td>\n",
       "      <td>2.894737</td>\n",
       "      <td>456</td>\n",
       "      <td>0</td>\n",
       "      <td>8.501064</td>\n",
       "      <td>5.581991</td>\n",
       "      <td>1.791759</td>\n",
       "      <td>yahoo.com</td>\n",
       "      <td>0</td>\n",
       "      <td>1</td>\n",
       "      <td>0</td>\n",
       "    </tr>\n",
       "    <tr>\n",
       "      <th>1</th>\n",
       "      <td>6150.0</td>\n",
       "      <td>Harlon Greyjoy</td>\n",
       "      <td>harlon.greyjoy@visa.com</td>\n",
       "      <td>Harlon</td>\n",
       "      <td>Greyjoy</td>\n",
       "      <td>361</td>\n",
       "      <td>9</td>\n",
       "      <td>1</td>\n",
       "      <td>6</td>\n",
       "      <td>247.0</td>\n",
       "      <td>2</td>\n",
       "      <td>5</td>\n",
       "      <td>1</td>\n",
       "      <td>0</td>\n",
       "      <td>0</td>\n",
       "      <td>120.20</td>\n",
       "      <td>5</td>\n",
       "      <td>2.631579</td>\n",
       "      <td>680</td>\n",
       "      <td>0</td>\n",
       "      <td>8.724207</td>\n",
       "      <td>5.509388</td>\n",
       "      <td>1.609438</td>\n",
       "      <td>visa.com</td>\n",
       "      <td>0</td>\n",
       "      <td>0</td>\n",
       "      <td>1</td>\n",
       "    </tr>\n",
       "    <tr>\n",
       "      <th>2</th>\n",
       "      <td>3435.0</td>\n",
       "      <td>Monster</td>\n",
       "      <td>monster@protonmail.com</td>\n",
       "      <td>Monster</td>\n",
       "      <td>Monster</td>\n",
       "      <td>278</td>\n",
       "      <td>6</td>\n",
       "      <td>1</td>\n",
       "      <td>4</td>\n",
       "      <td>164.4</td>\n",
       "      <td>0</td>\n",
       "      <td>6</td>\n",
       "      <td>1</td>\n",
       "      <td>5</td>\n",
       "      <td>0</td>\n",
       "      <td>127.00</td>\n",
       "      <td>3</td>\n",
       "      <td>3.684211</td>\n",
       "      <td>145</td>\n",
       "      <td>0</td>\n",
       "      <td>8.141772</td>\n",
       "      <td>5.102302</td>\n",
       "      <td>1.098612</td>\n",
       "      <td>protonmail.com</td>\n",
       "      <td>0</td>\n",
       "      <td>1</td>\n",
       "      <td>0</td>\n",
       "    </tr>\n",
       "    <tr>\n",
       "      <th>3</th>\n",
       "      <td>3330.0</td>\n",
       "      <td>Damon Lannister (lord)</td>\n",
       "      <td>damon.lannister.(lord)@yahoo.com</td>\n",
       "      <td>Damon</td>\n",
       "      <td>Lannister</td>\n",
       "      <td>269</td>\n",
       "      <td>8</td>\n",
       "      <td>1</td>\n",
       "      <td>2</td>\n",
       "      <td>176.0</td>\n",
       "      <td>5</td>\n",
       "      <td>5</td>\n",
       "      <td>2</td>\n",
       "      <td>0</td>\n",
       "      <td>0</td>\n",
       "      <td>129.78</td>\n",
       "      <td>6</td>\n",
       "      <td>3.157895</td>\n",
       "      <td>418</td>\n",
       "      <td>0</td>\n",
       "      <td>8.110728</td>\n",
       "      <td>5.170484</td>\n",
       "      <td>1.791759</td>\n",
       "      <td>yahoo.com</td>\n",
       "      <td>0</td>\n",
       "      <td>1</td>\n",
       "      <td>0</td>\n",
       "    </tr>\n",
       "    <tr>\n",
       "      <th>4</th>\n",
       "      <td>3427.5</td>\n",
       "      <td>Raynald Westerling</td>\n",
       "      <td>raynald.westerling@jnj.com</td>\n",
       "      <td>Raynald</td>\n",
       "      <td>Westerling</td>\n",
       "      <td>276</td>\n",
       "      <td>7</td>\n",
       "      <td>1</td>\n",
       "      <td>10</td>\n",
       "      <td>164.6</td>\n",
       "      <td>0</td>\n",
       "      <td>6</td>\n",
       "      <td>1</td>\n",
       "      <td>14</td>\n",
       "      <td>0</td>\n",
       "      <td>34.42</td>\n",
       "      <td>3</td>\n",
       "      <td>3.157895</td>\n",
       "      <td>174</td>\n",
       "      <td>0</td>\n",
       "      <td>8.139586</td>\n",
       "      <td>5.103518</td>\n",
       "      <td>1.098612</td>\n",
       "      <td>jnj.com</td>\n",
       "      <td>0</td>\n",
       "      <td>0</td>\n",
       "      <td>1</td>\n",
       "    </tr>\n",
       "  </tbody>\n",
       "</table>\n",
       "</div>"
      ],
      "text/plain": [
       "   REVENUE                    NAME                             EMAIL FIRST_NAME FAMILY_NAME  TOTAL_MEALS_ORDERED  UNIQUE_MEALS_PURCH  CONTACTS_W_CUSTOMER_SERVICE  PRODUCT_CATEGORIES_VIEWED  AVG_TIME_PER_SITE_VISIT  CANCELLATIONS_AFTER_NOON  PC_LOGINS  MOBILE_LOGINS  WEEKLY_PLAN  LATE_DELIVERIES  AVG_PREP_VID_TIME  LARGEST_ORDER_SIZE  AVG_MEAN_RATING  TOTAL_PHOTOS_VIEWED  m_FAMILY_NAME  log_REVENUE  log_AVG_TIME_PER_SITE_VISIT  log_LARGEST_ORDER_SIZE    EMAIL_DOMAIN  Junk  Personal  Professional\n",
       "0   4920.0       Steffon Baratheon       steffon.baratheon@yahoo.com    Steffon   Baratheon                  493                   9                            1                         10                    265.6                         5          5              2            0                0             137.41                   6         2.894737                  456              0     8.501064                     5.581991                1.791759       yahoo.com     0         1             0\n",
       "1   6150.0          Harlon Greyjoy           harlon.greyjoy@visa.com     Harlon     Greyjoy                  361                   9                            1                          6                    247.0                         2          5              1            0                0             120.20                   5         2.631579                  680              0     8.724207                     5.509388                1.609438        visa.com     0         0             1\n",
       "2   3435.0                 Monster            monster@protonmail.com    Monster     Monster                  278                   6                            1                          4                    164.4                         0          6              1            5                0             127.00                   3         3.684211                  145              0     8.141772                     5.102302                1.098612  protonmail.com     0         1             0\n",
       "3   3330.0  Damon Lannister (lord)  damon.lannister.(lord)@yahoo.com      Damon  Lannister                   269                   8                            1                          2                    176.0                         5          5              2            0                0             129.78                   6         3.157895                  418              0     8.110728                     5.170484                1.791759       yahoo.com     0         1             0\n",
       "4   3427.5      Raynald Westerling        raynald.westerling@jnj.com    Raynald  Westerling                  276                   7                            1                         10                    164.6                         0          6              1           14                0              34.42                   3         3.157895                  174              0     8.139586                     5.103518                1.098612         jnj.com     0         0             1"
      ]
     },
     "execution_count": 27,
     "metadata": {},
     "output_type": "execute_result"
    }
   ],
   "source": [
    "# One- hot encoding of the email group\n",
    "one_hot_EMAIL = pd.get_dummies(chef['EMAIL_GROUP'])\n",
    "\n",
    "# dropping categorical variables after they've been encoded\n",
    "chef = chef.drop('EMAIL_GROUP', axis = 1)\n",
    "\n",
    "# joining one_hot_EMAIL together\n",
    "chef = chef.join([one_hot_EMAIL])\n",
    "\n",
    "# Viewing our updated dataset\n",
    "chef.head(n = 5)"
   ]
  },
  {
   "cell_type": "markdown",
   "id": "c5b70eff",
   "metadata": {},
   "source": [
    "Since the junk emails receive no response as per the marketing team, it is unlikely that they will increase the revenue. <br>\n",
    "Hence, we will now include our newly engineered features - \"Personal\" and \"Professional\" in our base model to see the impact to R-squared and adj. R-squared."
   ]
  },
  {
   "cell_type": "code",
   "execution_count": 28,
   "id": "df03db11",
   "metadata": {},
   "outputs": [
    {
     "name": "stdout",
     "output_type": "stream",
     "text": [
      "                            OLS Regression Results                            \n",
      "==============================================================================\n",
      "Dep. Variable:            log_REVENUE   R-squared:                       0.646\n",
      "Model:                            OLS   Adj. R-squared:                  0.645\n",
      "Method:                 Least Squares   F-statistic:                     442.8\n",
      "Date:                Sun, 19 Feb 2023   Prob (F-statistic):               0.00\n",
      "Time:                        17:42:15   Log-Likelihood:                -351.66\n",
      "No. Observations:                1946   AIC:                             721.3\n",
      "Df Residuals:                    1937   BIC:                             771.5\n",
      "Df Model:                           8                                         \n",
      "Covariance Type:            nonrobust                                         \n",
      "===============================================================================================\n",
      "                                  coef    std err          t      P>|t|      [0.025      0.975]\n",
      "-----------------------------------------------------------------------------------------------\n",
      "Intercept                       3.8018      0.186     20.428      0.000       3.437       4.167\n",
      "log_AVG_TIME_PER_SITE_VISIT     0.8486      0.038     22.137      0.000       0.773       0.924\n",
      "TOTAL_MEALS_ORDERED             0.0028      0.000     19.956      0.000       0.003       0.003\n",
      "AVG_MEAN_RATING                -0.1782      0.013    -13.987      0.000      -0.203      -0.153\n",
      "LARGEST_ORDER_SIZE             -0.0604      0.007     -8.476      0.000      -0.074      -0.046\n",
      "CONTACTS_W_CUSTOMER_SERVICE     0.0348      0.003     13.057      0.000       0.030       0.040\n",
      "Professional                    0.0014      0.018      0.076      0.939      -0.035       0.038\n",
      "Personal                        0.0188      0.018      1.056      0.291      -0.016       0.054\n",
      "PRODUCT_CATEGORIES_VIEWED       0.0050      0.002      2.320      0.020       0.001       0.009\n",
      "==============================================================================\n",
      "Omnibus:                      146.088   Durbin-Watson:                   1.562\n",
      "Prob(Omnibus):                  0.000   Jarque-Bera (JB):              555.582\n",
      "Skew:                          -0.280   Prob(JB):                    2.27e-121\n",
      "Kurtosis:                       5.557   Cond. No.                     2.69e+03\n",
      "==============================================================================\n",
      "\n",
      "Notes:\n",
      "[1] Standard Errors assume that the covariance matrix of the errors is correctly specified.\n",
      "[2] The condition number is large, 2.69e+03. This might indicate that there are\n",
      "strong multicollinearity or other numerical problems.\n"
     ]
    }
   ],
   "source": [
    "# Re-evaluating our base model by including engineered features\n",
    "\n",
    "# Step 1: Instantiating a linear model \n",
    "lm_best = smf.ols(formula = \"\"\"log_REVENUE ~ log_AVG_TIME_PER_SITE_VISIT + \n",
    "                                         TOTAL_MEALS_ORDERED +\n",
    "                                         AVG_MEAN_RATING +\n",
    "                                         LARGEST_ORDER_SIZE+\n",
    "                                         CONTACTS_W_CUSTOMER_SERVICE+\n",
    "                                          Professional + Personal + PRODUCT_CATEGORIES_VIEWED\n",
    "                                    \n",
    "                                         \n",
    "                            \"\"\", # x-variable ~ y-variable\n",
    "                  data = chef)\n",
    "\n",
    "\n",
    "# Step 2: fitting the data into the model \n",
    "results = lm_best.fit() # creates the best fit line\n",
    "\n",
    "\n",
    "# Step 3: analyzing the summary output \n",
    "print(results.summary())"
   ]
  },
  {
   "cell_type": "code",
   "execution_count": 29,
   "id": "81d82fdb",
   "metadata": {},
   "outputs": [
    {
     "data": {
      "text/plain": [
       "Professional    0.010783\n",
       "Personal        0.007963\n",
       "Junk           -0.022813\n",
       "Name: REVENUE, dtype: float64"
      ]
     },
     "execution_count": 29,
     "metadata": {},
     "output_type": "execute_result"
    }
   ],
   "source": [
    "# developing a small correlation matrix\n",
    "emails_corr = chef.corr()    # .round(decimals = 2)\n",
    "\n",
    "\n",
    "# checking the correlations of the newly-created variables with REVENUE\n",
    "emails_corr.loc['REVENUE',                   # Y-variable\n",
    "               ['Personal', 'Professional', # X-variables\n",
    "                'Junk']] \\\n",
    "                .sort_values(ascending = False)"
   ]
  },
  {
   "cell_type": "markdown",
   "id": "ce2957bd",
   "metadata": {},
   "source": [
    "Since the bifurcation of email types does not seem to have an impact on R-squared, we will not include it in our model."
   ]
  },
  {
   "cell_type": "markdown",
   "id": "951e7a70",
   "metadata": {},
   "source": [
    "<br>"
   ]
  },
  {
   "cell_type": "markdown",
   "id": "ad737ff9",
   "metadata": {},
   "source": [
    "**4) Engineering features for Count/ Interval Data:**"
   ]
  },
  {
   "cell_type": "markdown",
   "id": "e4363fd6",
   "metadata": {},
   "source": [
    "Since most of our data is Count data, it is likely that these variables will be significant for our model. In this section, we will engineer new features using the count data and see which ones fit best in the base model."
   ]
  },
  {
   "cell_type": "code",
   "execution_count": 30,
   "id": "60fa520c",
   "metadata": {
    "scrolled": false
   },
   "outputs": [
    {
     "name": "stdout",
     "output_type": "stream",
     "text": [
      "<class 'pandas.core.frame.DataFrame'>\n",
      "RangeIndex: 1946 entries, 0 to 1945\n",
      "Data columns (total 27 columns):\n",
      " #   Column                       Non-Null Count  Dtype  \n",
      "---  ------                       --------------  -----  \n",
      " 0   REVENUE                      1946 non-null   float64\n",
      " 1   NAME                         1946 non-null   object \n",
      " 2   EMAIL                        1946 non-null   object \n",
      " 3   FIRST_NAME                   1946 non-null   object \n",
      " 4   FAMILY_NAME                  1900 non-null   object \n",
      " 5   TOTAL_MEALS_ORDERED          1946 non-null   int64  \n",
      " 6   UNIQUE_MEALS_PURCH           1946 non-null   int64  \n",
      " 7   CONTACTS_W_CUSTOMER_SERVICE  1946 non-null   int64  \n",
      " 8   PRODUCT_CATEGORIES_VIEWED    1946 non-null   int64  \n",
      " 9   AVG_TIME_PER_SITE_VISIT      1946 non-null   float64\n",
      " 10  CANCELLATIONS_AFTER_NOON     1946 non-null   int64  \n",
      " 11  PC_LOGINS                    1946 non-null   int64  \n",
      " 12  MOBILE_LOGINS                1946 non-null   int64  \n",
      " 13  WEEKLY_PLAN                  1946 non-null   int64  \n",
      " 14  LATE_DELIVERIES              1946 non-null   int64  \n",
      " 15  AVG_PREP_VID_TIME            1946 non-null   float64\n",
      " 16  LARGEST_ORDER_SIZE           1946 non-null   int64  \n",
      " 17  AVG_MEAN_RATING              1946 non-null   float64\n",
      " 18  TOTAL_PHOTOS_VIEWED          1946 non-null   int64  \n",
      " 19  m_FAMILY_NAME                1946 non-null   int64  \n",
      " 20  log_REVENUE                  1946 non-null   float64\n",
      " 21  log_AVG_TIME_PER_SITE_VISIT  1946 non-null   float64\n",
      " 22  log_LARGEST_ORDER_SIZE       1946 non-null   float64\n",
      " 23  EMAIL_DOMAIN                 1946 non-null   object \n",
      " 24  Junk                         1946 non-null   uint8  \n",
      " 25  Personal                     1946 non-null   uint8  \n",
      " 26  Professional                 1946 non-null   uint8  \n",
      "dtypes: float64(7), int64(12), object(5), uint8(3)\n",
      "memory usage: 370.7+ KB\n"
     ]
    }
   ],
   "source": [
    "chef.info()"
   ]
  },
  {
   "cell_type": "markdown",
   "id": "e2c54077",
   "metadata": {},
   "source": [
    "<br>"
   ]
  },
  {
   "cell_type": "code",
   "execution_count": 31,
   "id": "f1b5325f",
   "metadata": {},
   "outputs": [],
   "source": [
    "# Total number of logins\n",
    "chef['TOTAL_LOGINS'] = chef['PC_LOGINS'] + chef['MOBILE_LOGINS']\n",
    "\n",
    "# Proportion of late deliveries to total orders\n",
    "chef['LATE_TO_TOTAL'] = chef['LATE_DELIVERIES'] / chef['TOTAL_MEALS_ORDERED']\n",
    "\n",
    "# Proportion of Customer service contacts to total orders\n",
    "chef['CUST_SERV_TO_TOTAL'] = chef['CONTACTS_W_CUSTOMER_SERVICE'] / chef['TOTAL_MEALS_ORDERED']\n",
    "\n",
    "# Proportion of Cancellations after noon to total orders\n",
    "chef['CANCEL_TO_TOTAL'] = chef['CANCELLATIONS_AFTER_NOON'] / chef['TOTAL_MEALS_ORDERED']\n",
    "\n",
    "# Proportion of Unique orders to total orders\n",
    "chef['UNIQUE_TO_TOTAL'] = chef['UNIQUE_MEALS_PURCH'] / chef['TOTAL_MEALS_ORDERED']\n",
    "\n",
    "# Total orders to Total logins\n",
    "chef['ORDERS_TO_LOGINS'] = chef['TOTAL_MEALS_ORDERED'] / chef['TOTAL_LOGINS']\n",
    " "
   ]
  },
  {
   "cell_type": "code",
   "execution_count": 32,
   "id": "5800bf61",
   "metadata": {},
   "outputs": [
    {
     "data": {
      "text/plain": [
       "ORDERS_TO_LOGINS      0.582633\n",
       "TOTAL_LOGINS          0.061235\n",
       "LATE_TO_TOTAL        -0.183717\n",
       "CANCEL_TO_TOTAL      -0.276874\n",
       "CUST_SERV_TO_TOTAL   -0.314697\n",
       "UNIQUE_TO_TOTAL      -0.402982\n",
       "Name: REVENUE, dtype: float64"
      ]
     },
     "execution_count": 32,
     "metadata": {},
     "output_type": "execute_result"
    }
   ],
   "source": [
    "# developing a small correlation matrix\n",
    "interval_corr = chef.corr()    # .round(decimals = 2)\n",
    "\n",
    "\n",
    "# checking the correlations of the newly-created variables with REVENUE\n",
    "interval_corr.loc['REVENUE',                   # Y-variable\n",
    "               ['TOTAL_LOGINS', 'LATE_TO_TOTAL', # X-variables\n",
    "                'CUST_SERV_TO_TOTAL', 'CANCEL_TO_TOTAL', 'UNIQUE_TO_TOTAL','ORDERS_TO_LOGINS' ]] \\\n",
    "                .sort_values(ascending = False)"
   ]
  },
  {
   "cell_type": "markdown",
   "id": "37bf176a",
   "metadata": {},
   "source": [
    "**Analysis:** <br>\n",
    "- ORDERS_TO_LOGINS has a strong positive correlation (0.58) with REVENUE, indicating that as the ratio of orders to logins increases, the revenue generated also tends to increase.\n",
    "- TOTAL_LOGINS has a weak positive correlation (0.06) with REVENUE, indicating that a higher number of total logins is associated with a slightly higher revenue.\n",
    "- LATE_TO_TOTAL has a weak negative correlation (-0.18) with REVENUE, indicating that as the ratio of late deliveries to total deliveries increases, the revenue generated tends to decrease slightly.\n",
    "- CANCEL_TO_TOTAL has a moderate negative correlation (-0.28) with REVENUE, indicating that as the ratio of cancellations to total orders increases, the revenue generated tends to decrease.\n",
    "- CUST_SERV_TO_TOTAL has a moderate negative correlation (-0.31) with REVENUE, indicating that as the ratio of contacts with customer service to total orders increases, the revenue generated tends to decrease.\n",
    "- UNIQUE_TO_TOTAL has a strong negative correlation (-0.40) with REVENUE, indicating that as the ratio of unique meals to total meals ordered increases, the revenue generated tends to decrease."
   ]
  },
  {
   "cell_type": "markdown",
   "id": "ce11e8e3",
   "metadata": {},
   "source": [
    "Let us now re-evaluate our OLS model by including the engineered features with strong correlations."
   ]
  },
  {
   "cell_type": "code",
   "execution_count": 33,
   "id": "094b82a1",
   "metadata": {},
   "outputs": [
    {
     "name": "stdout",
     "output_type": "stream",
     "text": [
      "                            OLS Regression Results                            \n",
      "==============================================================================\n",
      "Dep. Variable:            log_REVENUE   R-squared:                       0.674\n",
      "Model:                            OLS   Adj. R-squared:                  0.672\n",
      "Method:                 Least Squares   F-statistic:                     332.5\n",
      "Date:                Sun, 19 Feb 2023   Prob (F-statistic):               0.00\n",
      "Time:                        17:42:15   Log-Likelihood:                -273.91\n",
      "No. Observations:                1946   AIC:                             573.8\n",
      "Df Residuals:                    1933   BIC:                             646.3\n",
      "Df Model:                          12                                         \n",
      "Covariance Type:            nonrobust                                         \n",
      "===============================================================================================\n",
      "                                  coef    std err          t      P>|t|      [0.025      0.975]\n",
      "-----------------------------------------------------------------------------------------------\n",
      "Intercept                       4.3153      0.183     23.555      0.000       3.956       4.675\n",
      "log_AVG_TIME_PER_SITE_VISIT     0.7589      0.038     19.984      0.000       0.684       0.833\n",
      "TOTAL_MEALS_ORDERED             0.0029      0.001      4.481      0.000       0.002       0.004\n",
      "AVG_MEAN_RATING                -0.1638      0.012    -13.267      0.000      -0.188      -0.140\n",
      "LARGEST_ORDER_SIZE             -0.0516      0.007     -7.450      0.000      -0.065      -0.038\n",
      "CONTACTS_W_CUSTOMER_SERVICE     0.0345      0.004      8.917      0.000       0.027       0.042\n",
      "PRODUCT_CATEGORIES_VIEWED       0.0040      0.002      1.904      0.057      -0.000       0.008\n",
      "ORDERS_TO_LOGINS               -0.0050      0.004     -1.145      0.252      -0.013       0.004\n",
      "UNIQUE_TO_TOTAL                -0.3459      0.052     -6.617      0.000      -0.448      -0.243\n",
      "CUST_SERV_TO_TOTAL             -0.0711      0.123     -0.578      0.563      -0.312       0.170\n",
      "CANCEL_TO_TOTAL                -0.2846      0.128     -2.228      0.026      -0.535      -0.034\n",
      "LATE_DELIVERIES                -0.0022      0.002     -1.300      0.194      -0.005       0.001\n",
      "AVG_PREP_VID_TIME           -6.322e-05      0.000     -0.594      0.553      -0.000       0.000\n",
      "==============================================================================\n",
      "Omnibus:                       81.559   Durbin-Watson:                   1.520\n",
      "Prob(Omnibus):                  0.000   Jarque-Bera (JB):              252.164\n",
      "Skew:                          -0.048   Prob(JB):                     1.75e-55\n",
      "Kurtosis:                       4.761   Cond. No.                     4.16e+03\n",
      "==============================================================================\n",
      "\n",
      "Notes:\n",
      "[1] Standard Errors assume that the covariance matrix of the errors is correctly specified.\n",
      "[2] The condition number is large, 4.16e+03. This might indicate that there are\n",
      "strong multicollinearity or other numerical problems.\n"
     ]
    }
   ],
   "source": [
    "# Re-evaluating our base model by including engineered features for interval data\n",
    "\n",
    "# Step 1: Instantiating a linear model \n",
    "lm_best = smf.ols(formula = \"\"\"log_REVENUE ~ log_AVG_TIME_PER_SITE_VISIT + \n",
    "                                         TOTAL_MEALS_ORDERED +\n",
    "                                         AVG_MEAN_RATING +\n",
    "                                         LARGEST_ORDER_SIZE+\n",
    "                                         CONTACTS_W_CUSTOMER_SERVICE+\n",
    "                                         PRODUCT_CATEGORIES_VIEWED+\n",
    "                                         ORDERS_TO_LOGINS+\n",
    "                                         UNIQUE_TO_TOTAL +\n",
    "                                         CUST_SERV_TO_TOTAL +\n",
    "                                         CANCEL_TO_TOTAL +LATE_DELIVERIES + AVG_PREP_VID_TIME\n",
    "                                         \n",
    "                                          \n",
    "                                    \n",
    "                                         \n",
    "                            \"\"\", # x-variable ~ y-variable\n",
    "                  data = chef)\n",
    "\n",
    "\n",
    "# Step 2: fitting the data into the model \n",
    "results = lm_best.fit() # creates the best fit line\n",
    "\n",
    "\n",
    "# Step 3: analyzing the summary output \n",
    "print(results.summary())"
   ]
  },
  {
   "cell_type": "markdown",
   "id": "0d2e87a5",
   "metadata": {},
   "source": [
    "As we can see from the output, the R-squared and adjusted R-squared have increased in comparison to the earlier tested base model."
   ]
  },
  {
   "cell_type": "markdown",
   "id": "56db7133",
   "metadata": {},
   "source": [
    "<br>"
   ]
  },
  {
   "cell_type": "markdown",
   "id": "1afd791f",
   "metadata": {},
   "source": [
    "## Part III: Developing and Evaluating a Predictive Model"
   ]
  },
  {
   "cell_type": "markdown",
   "id": "c48138fe",
   "metadata": {},
   "source": [
    "**1) Importing libraries and preparing the model for scikit-learn:** "
   ]
  },
  {
   "cell_type": "code",
   "execution_count": 34,
   "id": "af7f27bb",
   "metadata": {},
   "outputs": [],
   "source": [
    "# Importing Scikit-Learn and required modules to build the predective model\n",
    "\n",
    "from sklearn.model_selection import train_test_split # train/test split\n",
    "import sklearn.linear_model # linear modeling in scikit-learn"
   ]
  },
  {
   "cell_type": "code",
   "execution_count": 35,
   "id": "f5412d52",
   "metadata": {},
   "outputs": [],
   "source": [
    "# Creating a list of our x-variables \n",
    "\n",
    "x_var_log_y = ['log_AVG_TIME_PER_SITE_VISIT', 'TOTAL_MEALS_ORDERED', 'AVG_MEAN_RATING', 'LARGEST_ORDER_SIZE',\n",
    "                'CONTACTS_W_CUSTOMER_SERVICE','PRODUCT_CATEGORIES_VIEWED', 'ORDERS_TO_LOGINS', 'UNIQUE_TO_TOTAL' ,\n",
    "                'CUST_SERV_TO_TOTAL' , 'CANCEL_TO_TOTAL']"
   ]
  },
  {
   "cell_type": "code",
   "execution_count": 36,
   "id": "7ff773ec",
   "metadata": {},
   "outputs": [],
   "source": [
    "# preparing for scikit-learn\n",
    "\n",
    "# preparing x-variables from the OLS model\n",
    "x_data = chef[x_var_log_y]\n",
    "\n",
    "\n",
    "# preparing response variable\n",
    "y_data = chef['log_REVENUE']\n",
    "\n",
    "\n",
    "###############################################\n",
    "## setting up train-test split ##\n",
    "###############################################\n",
    "x_train, x_test, y_train, y_test = train_test_split(\n",
    "            x_data, \n",
    "            y_data, \n",
    "            test_size    = 0.25,\n",
    "            random_state = 219)"
   ]
  },
  {
   "cell_type": "markdown",
   "id": "8a4c3e1c",
   "metadata": {},
   "source": [
    "**2) Building Regression models and evaluating them based on Train-Test Gap:**"
   ]
  },
  {
   "cell_type": "markdown",
   "id": "fd426ece",
   "metadata": {},
   "source": [
    "- Linear Regression"
   ]
  },
  {
   "cell_type": "code",
   "execution_count": 37,
   "id": "95238add",
   "metadata": {},
   "outputs": [
    {
     "name": "stdout",
     "output_type": "stream",
     "text": [
      "\n",
      "\n",
      "Model Name:     Linear Regression (log-y)\n",
      "Train_Score:    0.6707\n",
      "Test_Score:     0.6751\n",
      "Train-Test Gap: 0.0044\n",
      "\n"
     ]
    }
   ],
   "source": [
    "# Setting a model name\n",
    "model_name = \"Linear Regression (log-y)\"\n",
    "\n",
    "\n",
    "# INSTANTIATING a model object\n",
    "model = sklearn.linear_model.LinearRegression()\n",
    "\n",
    "\n",
    "# FITTING to the training data\n",
    "model_fit = model.fit(x_train, y_train)\n",
    "\n",
    "\n",
    "# PREDICTING on new data\n",
    "model_pred = model.predict(x_test)\n",
    "\n",
    "\n",
    "# SCORING the results\n",
    "model_train_score = model.score(x_train, y_train).round(4) # using R-square\n",
    "model_test_score  = model.score(x_test, y_test).round(4)   # using R-square\n",
    "model_gap         = abs(model_train_score - model_test_score).round(4)\n",
    "\n",
    "\n",
    "# dynamically printing results\n",
    "output_model =  f\"\"\"\\n\n",
    "Model Name:     {model_name}\n",
    "Train_Score:    {model_train_score}\n",
    "Test_Score:     {model_test_score}\n",
    "Train-Test Gap: {model_gap}\n",
    "\"\"\"\n",
    "print(output_model)"
   ]
  },
  {
   "cell_type": "code",
   "execution_count": 38,
   "id": "82445a77",
   "metadata": {},
   "outputs": [
    {
     "name": "stdout",
     "output_type": "stream",
     "text": [
      "('intercept', 4.23)\n",
      "('log_AVG_TIME_PER_SITE_VISIT', 0.76)\n",
      "('TOTAL_MEALS_ORDERED', 0.0)\n",
      "('AVG_MEAN_RATING', -0.15)\n",
      "('LARGEST_ORDER_SIZE', -0.05)\n",
      "('CONTACTS_W_CUSTOMER_SERVICE', 0.03)\n",
      "('PRODUCT_CATEGORIES_VIEWED', 0.0)\n",
      "('ORDERS_TO_LOGINS', -0.0)\n",
      "('UNIQUE_TO_TOTAL', -0.31)\n",
      "('CUST_SERV_TO_TOTAL', -0.15)\n",
      "('CANCEL_TO_TOTAL', -0.35)\n"
     ]
    }
   ],
   "source": [
    "#EXTRACTING COEFFECIENTS\n",
    "\n",
    "# zipping each feature name to its coefficient\n",
    "model_coefficients = zip(x_train.columns,\n",
    "                         model.coef_.round(decimals = 2))\n",
    "\n",
    "\n",
    "# setting up a placeholder list to store model features\n",
    "coefficient_lst = [('intercept', model.intercept_.round(decimals = 2))]\n",
    "\n",
    "\n",
    "# printing out each feature-coefficient pair one by one\n",
    "for coefficient in model_coefficients:\n",
    "    coefficient_lst.append(coefficient)\n",
    "    \n",
    "\n",
    "# checking the results\n",
    "for pair in coefficient_lst:\n",
    "    print(pair)"
   ]
  },
  {
   "cell_type": "markdown",
   "id": "157d68e6",
   "metadata": {},
   "source": [
    "**Conclusion:** Linear Regression is performing relatively well, with a training score of 0.6707 and a testing score of 0.6751. The train-test gap of 0.0044 is also quite small, indicating that the model is not overfitting the training data. "
   ]
  },
  {
   "cell_type": "markdown",
   "id": "3177797b",
   "metadata": {},
   "source": [
    "- Lasso Regression"
   ]
  },
  {
   "cell_type": "code",
   "execution_count": 39,
   "id": "cf9970a2",
   "metadata": {},
   "outputs": [
    {
     "name": "stdout",
     "output_type": "stream",
     "text": [
      "\n",
      "\n",
      "Model Name:     Lasso Regression Model (log-y)\n",
      "Train_Score:    0.38\n",
      "Test_Score:     0.3328\n",
      "Train-Test Gap: 0.0472\n",
      "\n"
     ]
    }
   ],
   "source": [
    "# Setting a model name\n",
    "model_name = \"Lasso Regression Model (log-y)\"\n",
    "\n",
    "\n",
    "# INSTANTIATING a model object - CHANGE THIS AS NEEDED\n",
    "model = sklearn.linear_model.Lasso()\n",
    "\n",
    "\n",
    "# FITTING to the training data\n",
    "model_fit = model.fit(x_train, y_train)\n",
    "\n",
    "\n",
    "# PREDICTING on new data\n",
    "model_pred = model.predict(x_test)\n",
    "\n",
    "\n",
    "# SCORING the results\n",
    "model_train_score = model.score(x_train, y_train).round(4) # using R-square\n",
    "model_test_score  = model.score(x_test, y_test).round(4)   # using R-square\n",
    "model_gap         = abs(model_train_score - model_test_score).round(4)\n",
    "\n",
    "\n",
    "# dynamically printing results\n",
    "output_model =  f\"\"\"\\n\n",
    "Model Name:     {model_name}\n",
    "Train_Score:    {model_train_score}\n",
    "Test_Score:     {model_test_score}\n",
    "Train-Test Gap: {model_gap}\n",
    "\"\"\"\n",
    "print(output_model)"
   ]
  },
  {
   "cell_type": "code",
   "execution_count": 40,
   "id": "3045b65b",
   "metadata": {},
   "outputs": [
    {
     "name": "stdout",
     "output_type": "stream",
     "text": [
      "('intercept', 7.14)\n",
      "('log_AVG_TIME_PER_SITE_VISIT', 0.0)\n",
      "('TOTAL_MEALS_ORDERED', 0.01)\n",
      "('AVG_MEAN_RATING', -0.0)\n",
      "('LARGEST_ORDER_SIZE', 0.0)\n",
      "('CONTACTS_W_CUSTOMER_SERVICE', 0.0)\n",
      "('PRODUCT_CATEGORIES_VIEWED', 0.0)\n",
      "('ORDERS_TO_LOGINS', 0.0)\n",
      "('UNIQUE_TO_TOTAL', -0.0)\n",
      "('CUST_SERV_TO_TOTAL', -0.0)\n",
      "('CANCEL_TO_TOTAL', -0.0)\n"
     ]
    }
   ],
   "source": [
    "#EXTRACTING COEFFECIENTS\n",
    "\n",
    "# zipping each feature name to its coefficient\n",
    "model_coefficients = zip(x_train.columns,\n",
    "                         model.coef_.round(decimals = 2))\n",
    "\n",
    "\n",
    "# setting up a placeholder list to store model features\n",
    "coefficient_lst = [('intercept', model.intercept_.round(decimals = 2))]\n",
    "\n",
    "\n",
    "# printing out each feature-coefficient pair one by one\n",
    "for coefficient in model_coefficients:\n",
    "    coefficient_lst.append(coefficient)\n",
    "    \n",
    "\n",
    "# checking the results\n",
    "for pair in coefficient_lst:\n",
    "    print(pair)"
   ]
  },
  {
   "cell_type": "markdown",
   "id": "51de1d64",
   "metadata": {},
   "source": [
    "**Conclusion:** The Lasso regression model with default hyperparameters is not performing as well as the OLS regression model. The training score and testing score are both lower, and the train-test gap is larger."
   ]
  },
  {
   "cell_type": "markdown",
   "id": "1aa10bc9",
   "metadata": {},
   "source": [
    "- Ridge Regression"
   ]
  },
  {
   "cell_type": "code",
   "execution_count": 41,
   "id": "813198a0",
   "metadata": {},
   "outputs": [
    {
     "name": "stdout",
     "output_type": "stream",
     "text": [
      "\n",
      "\n",
      "Model Name:     Ridge Regression Model (log-y)\n",
      "Train_Score:    0.6706\n",
      "Test_Score:     0.6756\n",
      "Train-Test Gap: 0.005\n",
      "\n"
     ]
    }
   ],
   "source": [
    "# Setting a model name\n",
    "model_name = \"Ridge Regression Model (log-y)\"\n",
    "\n",
    "\n",
    "# INSTANTIATING a model object - CHANGE THIS AS NEEDED\n",
    "model = sklearn.linear_model.Ridge()\n",
    "\n",
    "\n",
    "# FITTING to the training data\n",
    "model_fit = model.fit(x_train, y_train)\n",
    "\n",
    "\n",
    "# PREDICTING on new data\n",
    "model_pred = model.predict(x_test)\n",
    "\n",
    "\n",
    "# SCORING the results\n",
    "model_train_score = model.score(x_train, y_train).round(4) # using R-square\n",
    "model_test_score  = model.score(x_test, y_test).round(4)   # using R-square\n",
    "model_gap         = abs(model_train_score - model_test_score).round(4)\n",
    "\n",
    "\n",
    "# dynamically printing results\n",
    "output_model =  f\"\"\"\\n\n",
    "Model Name:     {model_name}\n",
    "Train_Score:    {model_train_score}\n",
    "Test_Score:     {model_test_score}\n",
    "Train-Test Gap: {model_gap}\n",
    "\"\"\"\n",
    "print(output_model)"
   ]
  },
  {
   "cell_type": "code",
   "execution_count": 42,
   "id": "14869e4f",
   "metadata": {},
   "outputs": [
    {
     "name": "stdout",
     "output_type": "stream",
     "text": [
      "('intercept', 4.3)\n",
      "('log_AVG_TIME_PER_SITE_VISIT', 0.75)\n",
      "('TOTAL_MEALS_ORDERED', 0.0)\n",
      "('AVG_MEAN_RATING', -0.15)\n",
      "('LARGEST_ORDER_SIZE', -0.05)\n",
      "('CONTACTS_W_CUSTOMER_SERVICE', 0.03)\n",
      "('PRODUCT_CATEGORIES_VIEWED', 0.0)\n",
      "('ORDERS_TO_LOGINS', -0.0)\n",
      "('UNIQUE_TO_TOTAL', -0.32)\n",
      "('CUST_SERV_TO_TOTAL', -0.15)\n",
      "('CANCEL_TO_TOTAL', -0.29)\n"
     ]
    }
   ],
   "source": [
    "#EXTRACTING COEFFECIENTS\n",
    "\n",
    "# zipping each feature name to its coefficient\n",
    "model_coefficients = zip(x_train.columns,\n",
    "                         model.coef_.round(decimals = 2))\n",
    "\n",
    "\n",
    "# setting up a placeholder list to store model features\n",
    "coefficient_lst = [('intercept', model.intercept_.round(decimals = 2))]\n",
    "\n",
    "\n",
    "# printing out each feature-coefficient pair one by one\n",
    "for coefficient in model_coefficients:\n",
    "    coefficient_lst.append(coefficient)\n",
    "    \n",
    "\n",
    "# checking the results\n",
    "for pair in coefficient_lst:\n",
    "    print(pair)"
   ]
  },
  {
   "cell_type": "markdown",
   "id": "d859bd0b",
   "metadata": {},
   "source": [
    "**Conclusion:** The testing score of the Ridge Regression model indicates that explains 67.56% of the variance in the testing data. The train-test gap is 0.005, which is relatively small and indicates that the model generalizes well to new data.\n",
    "While Ridge Regression performs exceedingly well in terms of minimal train-test gap, the R-square values are moderately low."
   ]
  },
  {
   "cell_type": "markdown",
   "id": "0990d3f1",
   "metadata": {},
   "source": [
    "- ARD Regression"
   ]
  },
  {
   "cell_type": "code",
   "execution_count": 43,
   "id": "a0ed1623",
   "metadata": {},
   "outputs": [
    {
     "name": "stdout",
     "output_type": "stream",
     "text": [
      "\n",
      "\n",
      "Model Name:     ARD Regression Model (log-y)\n",
      "Train_Score:    0.6347\n",
      "Test_Score:     0.6398\n",
      "Train-Test Gap: 0.0051\n",
      "\n"
     ]
    }
   ],
   "source": [
    "# Setting a model name\n",
    "model_name = \"ARD Regression Model (log-y)\"\n",
    "\n",
    "\n",
    "# INSTANTIATING a model object - CHANGE THIS AS NEEDED\n",
    "model = sklearn.linear_model.ARDRegression()\n",
    "\n",
    "\n",
    "# FITTING to the training data\n",
    "model_fit = model.fit(x_train, y_train)\n",
    "\n",
    "\n",
    "# PREDICTING on new data\n",
    "model_pred = model.predict(x_test)\n",
    "\n",
    "\n",
    "# SCORING the results\n",
    "model_train_score = model.score(x_train, y_train).round(4) # using R-square\n",
    "model_test_score  = model.score(x_test, y_test).round(4)   # using R-square\n",
    "model_gap         = abs(model_train_score - model_test_score).round(4)\n",
    "\n",
    "\n",
    "# dynamically printing results\n",
    "output_model =  f\"\"\"\\n\n",
    "Model Name:     {model_name}\n",
    "Train_Score:    {model_train_score}\n",
    "Test_Score:     {model_test_score}\n",
    "Train-Test Gap: {model_gap}\n",
    "\"\"\"\n",
    "print(output_model)"
   ]
  },
  {
   "cell_type": "code",
   "execution_count": 44,
   "id": "049cfd6f",
   "metadata": {},
   "outputs": [
    {
     "name": "stdout",
     "output_type": "stream",
     "text": [
      "('intercept', 4.17)\n",
      "('log_AVG_TIME_PER_SITE_VISIT', 0.85)\n",
      "('TOTAL_MEALS_ORDERED', 0.0)\n",
      "('AVG_MEAN_RATING', -0.19)\n",
      "('LARGEST_ORDER_SIZE', -0.05)\n",
      "('CONTACTS_W_CUSTOMER_SERVICE', 0.04)\n",
      "('PRODUCT_CATEGORIES_VIEWED', 0.0)\n",
      "('ORDERS_TO_LOGINS', 0.0)\n",
      "('UNIQUE_TO_TOTAL', -0.37)\n",
      "('CUST_SERV_TO_TOTAL', -0.42)\n",
      "('CANCEL_TO_TOTAL', -0.46)\n"
     ]
    }
   ],
   "source": [
    "#EXTRACTING COEFFECIENTS\n",
    "\n",
    "# zipping each feature name to its coefficient\n",
    "model_coefficients = zip(x_train.columns,\n",
    "                         model.coef_.round(decimals = 2))\n",
    "\n",
    "\n",
    "# setting up a placeholder list to store model features\n",
    "coefficient_lst = [('intercept', model.intercept_.round(decimals = 2))]\n",
    "\n",
    "\n",
    "# printing out each feature-coefficient pair one by one\n",
    "for coefficient in model_coefficients:\n",
    "    coefficient_lst.append(coefficient)\n",
    "    \n",
    "\n",
    "# checking the results\n",
    "for pair in coefficient_lst:\n",
    "    print(pair)"
   ]
  },
  {
   "cell_type": "markdown",
   "id": "0a9c8654",
   "metadata": {},
   "source": [
    "**Conclusion:** While the small train-test gap suggests that the ARD model is not overfitting or underfitting the data, the R-squared values are relatively low."
   ]
  },
  {
   "cell_type": "markdown",
   "id": "486eb06e",
   "metadata": {},
   "source": [
    "**3) Building CART and Ensemble Models and evaluating Train-Test Gap:**"
   ]
  },
  {
   "cell_type": "markdown",
   "id": "6b64acc4",
   "metadata": {},
   "source": [
    "- Preparing data for modeling:"
   ]
  },
  {
   "cell_type": "code",
   "execution_count": 45,
   "id": "c835669b",
   "metadata": {},
   "outputs": [],
   "source": [
    "# Importing required libraries and modules\n",
    "\n",
    "# importing machine learning models\n",
    "from sklearn.tree     import DecisionTreeRegressor     # regression trees\n",
    "from sklearn.ensemble import RandomForestRegressor     # random forest\n",
    "from sklearn.ensemble import GradientBoostingRegressor # gbm"
   ]
  },
  {
   "cell_type": "code",
   "execution_count": 46,
   "id": "9782b1e0",
   "metadata": {},
   "outputs": [],
   "source": [
    "# Defining list of x-variables for train-test split\n",
    "x_var_log_y_full = ['log_AVG_TIME_PER_SITE_VISIT', \n",
    "                 'TOTAL_MEALS_ORDERED', \n",
    "                 'AVG_MEAN_RATING', \n",
    "                 'LARGEST_ORDER_SIZE',\n",
    "                 'CONTACTS_W_CUSTOMER_SERVICE',\n",
    "                 'PRODUCT_CATEGORIES_VIEWED', \n",
    "                 'ORDERS_TO_LOGINS', \n",
    "                 'UNIQUE_TO_TOTAL' ,\n",
    "                 'CUST_SERV_TO_TOTAL' , \n",
    "                 'CANCEL_TO_TOTAL',\n",
    "                 'UNIQUE_MEALS_PURCH', \n",
    "                 'CANCELLATIONS_AFTER_NOON', \n",
    "                 'PC_LOGINS',\n",
    "                 'MOBILE_LOGINS',\n",
    "                 'WEEKLY_PLAN',\n",
    "                 'LATE_DELIVERIES', \n",
    "                 'AVG_PREP_VID_TIME', \n",
    "                 'TOTAL_PHOTOS_VIEWED', \n",
    "                 'Junk', 'Personal', 'Professional',\n",
    "                 'TOTAL_LOGINS', 'LATE_TO_TOTAL'\n",
    "                ]"
   ]
  },
  {
   "cell_type": "code",
   "execution_count": 47,
   "id": "6b9e6d19",
   "metadata": {},
   "outputs": [],
   "source": [
    "# preparing x-variables\n",
    "\n",
    "x1_data = chef.loc[ : , x_var_log_y_full ] \n",
    "\n",
    "\n",
    "# preparing y-variable\n",
    "y1_data = chef.loc[ : , 'log_REVENUE']    # y-variable \n"
   ]
  },
  {
   "cell_type": "code",
   "execution_count": 48,
   "id": "44872bb7",
   "metadata": {},
   "outputs": [],
   "source": [
    "# train-test split\n",
    "x_train, x_test, y_train, y_test = train_test_split(\n",
    "            x1_data,\n",
    "            y1_data,\n",
    "            test_size    = 0.25,\n",
    "            random_state = 219)"
   ]
  },
  {
   "cell_type": "markdown",
   "id": "e875c9a4",
   "metadata": {},
   "source": [
    "- Unpruned Regression Tree"
   ]
  },
  {
   "cell_type": "code",
   "execution_count": 49,
   "id": "626befa3",
   "metadata": {},
   "outputs": [
    {
     "name": "stdout",
     "output_type": "stream",
     "text": [
      "\n",
      "\n",
      "Model Name:     Unpruned Regression Tree\n",
      "Train_Score:    1.0\n",
      "Test_Score:     0.5545\n",
      "Train-Test Gap: 0.4455\n",
      "\n"
     ]
    }
   ],
   "source": [
    "model_name = 'Unpruned Regression Tree'\n",
    "\n",
    "# INSTANTIATING a model object - CHANGE THIS AS NEEDED\n",
    "model = DecisionTreeRegressor()\n",
    "\n",
    "\n",
    "# FITTING to the training data\n",
    "model_fit = model.fit(x_train, y_train)\n",
    "\n",
    "\n",
    "# PREDICTING on new data\n",
    "model_pred = model.predict(x_test)\n",
    "\n",
    "\n",
    "# SCORING the results\n",
    "model_train_score = model.score(x_train, y_train).round(4) # using R-square\n",
    "model_test_score  = model.score(x_test, y_test).round(4)   # using R-square\n",
    "model_gap         = abs(model_train_score - model_test_score).round(4)\n",
    "\n",
    "# dynamically printing results\n",
    "output_model =  f\"\"\"\\n\n",
    "Model Name:     {model_name}\n",
    "Train_Score:    {model_train_score}\n",
    "Test_Score:     {model_test_score}\n",
    "Train-Test Gap: {model_gap}\n",
    "\"\"\"\n",
    "print(output_model)"
   ]
  },
  {
   "cell_type": "markdown",
   "id": "ff3bc6a9",
   "metadata": {},
   "source": [
    "- Pruned Regression Tree"
   ]
  },
  {
   "cell_type": "code",
   "execution_count": 50,
   "id": "cc88c144",
   "metadata": {},
   "outputs": [
    {
     "name": "stdout",
     "output_type": "stream",
     "text": [
      "\n",
      "\n",
      "Model Name:     Pruned Regression Tree\n",
      "Train_Score:    0.77\n",
      "Test_Score:     0.73\n",
      "Train-Test Gap: 0.04\n",
      "\n"
     ]
    }
   ],
   "source": [
    "model_name = 'Pruned Regression Tree'\n",
    "\n",
    "# INSTANTIATING a model object - CHANGE THIS AS NEEDED\n",
    "\n",
    "model = DecisionTreeRegressor(max_depth = 6, #9\n",
    "                              min_samples_leaf = 26, #18\n",
    "                              random_state = 219)\n",
    "\n",
    "\n",
    "# FITTING to the training data\n",
    "model_fit = model.fit(x_train, y_train)\n",
    "\n",
    "\n",
    "# PREDICTING on new data\n",
    "model_pred = model.predict(x_test)\n",
    "\n",
    "\n",
    "# SCORING the results\n",
    "model_train_score = model.score(x_train, y_train).round(2) # using R-square\n",
    "model_test_score  = model.score(x_test, y_test).round(2)   # using R-square\n",
    "model_gap         = abs(model_train_score - model_test_score).round(4)\n",
    "\n",
    "# dynamically printing results\n",
    "output_model =  f\"\"\"\\n\n",
    "Model Name:     {model_name}\n",
    "Train_Score:    {model_train_score}\n",
    "Test_Score:     {model_test_score}\n",
    "Train-Test Gap: {model_gap}\n",
    "\"\"\"\n",
    "print(output_model)"
   ]
  },
  {
   "cell_type": "markdown",
   "id": "7878d819",
   "metadata": {},
   "source": [
    "**Conclusion:** The Pruned Regression Tree performs well in terms of Train-test gap however the testing score has scope of improvement."
   ]
  },
  {
   "cell_type": "markdown",
   "id": "cd6e14a6",
   "metadata": {},
   "source": [
    "- Random Forest"
   ]
  },
  {
   "cell_type": "code",
   "execution_count": 51,
   "id": "6ca7f9b0",
   "metadata": {},
   "outputs": [
    {
     "name": "stdout",
     "output_type": "stream",
     "text": [
      "\n",
      "\n",
      "Model Name:     Unpruned Random Forest\n",
      "Train_Score:    0.9736\n",
      "Test_Score:     0.8135\n",
      "Train-Test Gap: 0.1601\n",
      "\n"
     ]
    }
   ],
   "source": [
    "# specifying a model name\n",
    "model_name = 'Unpruned Random Forest'\n",
    "\n",
    "\n",
    "# INSTANTIATING a random forest model with default values\n",
    "model = RandomForestRegressor(n_estimators     = 100, \n",
    "                              criterion        = 'squared_error', \n",
    "                              max_depth        = None, \n",
    "                              min_samples_leaf = 1,\n",
    "                              bootstrap        = True,\n",
    "                              warm_start       = False,\n",
    "                              random_state     = 219)\n",
    "\n",
    "# FITTING the training data\n",
    "model_fit = model.fit(x_train, y_train)\n",
    "\n",
    "\n",
    "# PREDICTING based on the testing set\n",
    "model_pred = model.predict(x_test)\n",
    "\n",
    "\n",
    "# SCORING the results\n",
    "model_train_score = model.score(x_train, y_train).round(4) # using R-square\n",
    "model_test_score  = model.score(x_test, y_test).round(4)   # using R-square\n",
    "model_gap         = abs(model_train_score - model_test_score).round(4)\n",
    "\n",
    "# dynamically printing results\n",
    "output_model =  f\"\"\"\\n\n",
    "Model Name:     {model_name}\n",
    "Train_Score:    {model_train_score}\n",
    "Test_Score:     {model_test_score}\n",
    "Train-Test Gap: {model_gap}\n",
    "\"\"\"\n",
    "print(output_model)"
   ]
  },
  {
   "cell_type": "code",
   "execution_count": 52,
   "id": "29c51b1c",
   "metadata": {},
   "outputs": [
    {
     "name": "stdout",
     "output_type": "stream",
     "text": [
      "\n",
      "\n",
      "Model Name:     Pruned Random Forest\n",
      "Train_Score:    0.82\n",
      "Test_Score:     0.79\n",
      "Train-Test Gap: 0.03\n",
      "\n"
     ]
    }
   ],
   "source": [
    "# specifying a model name\n",
    "model_name = 'Pruned Random Forest'\n",
    "\n",
    "\n",
    "# INSTANTIATING a random forest model with default values\n",
    "model = RandomForestRegressor(n_estimators     = 200,\n",
    "                              criterion        = 'squared_error',\n",
    "                              max_depth        = 8,\n",
    "                              min_samples_leaf = 18,\n",
    "                              bootstrap        = True,\n",
    "                              warm_start       = False,\n",
    "                              random_state     = 219)\n",
    "\n",
    "\n",
    "# FITTING the training data\n",
    "model_fit = model.fit(x_train, y_train)\n",
    "\n",
    "\n",
    "# PREDICTING based on the testing set\n",
    "model_pred = model.predict(x_test)\n",
    "\n",
    "\n",
    "# SCORING the results\n",
    "model_train_score = model.score(x_train, y_train).round(2) # using R-square\n",
    "model_test_score  = model.score(x_test, y_test).round(2)   # using R-square\n",
    "model_gap         = abs(model_train_score - model_test_score).round(2)\n",
    "\n",
    "# dynamically printing results\n",
    "output_model =  f\"\"\"\\n\n",
    "Model Name:     {model_name}\n",
    "Train_Score:    {model_train_score}\n",
    "Test_Score:     {model_test_score}\n",
    "Train-Test Gap: {model_gap}\n",
    "\"\"\"\n",
    "print(output_model)"
   ]
  },
  {
   "cell_type": "markdown",
   "id": "f667bc75",
   "metadata": {},
   "source": [
    "**Conclusion:** The Pruned Random Forest model performs the best out of all models tested until now, in terms of both the testing score as well as the train-test gap."
   ]
  },
  {
   "cell_type": "markdown",
   "id": "20718762",
   "metadata": {},
   "source": [
    "- Gradient Boosting Machines"
   ]
  },
  {
   "cell_type": "code",
   "execution_count": 53,
   "id": "5f674e93",
   "metadata": {},
   "outputs": [
    {
     "name": "stderr",
     "output_type": "stream",
     "text": [
      "/Users/rheakapoor/opt/anaconda3/lib/python3.9/site-packages/sklearn/ensemble/_gb.py:1854: FutureWarning: criterion='mae' was deprecated in version 0.24 and will be removed in version 1.1 (renaming of 0.26). The correct way of minimizing the absolute error is to use  loss='absolute_error' instead.\n",
      "  warnings.warn(\n"
     ]
    },
    {
     "name": "stdout",
     "output_type": "stream",
     "text": [
      "\n",
      "\n",
      "Model Name:     Pruned GBM\n",
      "Train_Score:    0.85\n",
      "Test_Score:     0.82\n",
      "Train-Test Gap: 0.03\n",
      "\n"
     ]
    }
   ],
   "source": [
    "# specifying a model name\n",
    "model_name = 'Pruned GBM'\n",
    "\n",
    "\n",
    "# INSTANTIATING the model object\n",
    "model = GradientBoostingRegressor(loss          = 'absolute_error',\n",
    "                                  learning_rate = 0.15,\n",
    "                                  n_estimators  = 100,\n",
    "                                  criterion     = 'absolute_error',\n",
    "                                  max_depth     = 3,\n",
    "                                  warm_start    = False,\n",
    "                                  random_state  = 219)\n",
    "\n",
    "\n",
    "# FITTING the training data\n",
    "model_fit = model.fit(x_train, y_train)\n",
    "\n",
    "\n",
    "# PREDICTING based on the testing set\n",
    "model_pred = model.predict(x_test)\n",
    "\n",
    "\n",
    "# SCORING the results\n",
    "model_train_score = model.score(x_train, y_train).round(2) # using R-square\n",
    "model_test_score  = model.score(x_test, y_test).round(2)   # using R-square\n",
    "model_gap         = abs(model_train_score - model_test_score).round(4)\n",
    "\n",
    "\n",
    "# dynamically printing results\n",
    "output_model =  f\"\"\"\\n\n",
    "Model Name:     {model_name}\n",
    "Train_Score:    {model_train_score}\n",
    "Test_Score:     {model_test_score}\n",
    "Train-Test Gap: {model_gap}\n",
    "\"\"\"\n",
    "print(output_model)"
   ]
  },
  {
   "cell_type": "markdown",
   "id": "9ae57c24",
   "metadata": {},
   "source": [
    "**Conclusion:** By tuning the hyperparameters, the GBM model outperforms the Pruned Random Forest Model with an R-squared of 0.82 and a train-test gap of 0.03."
   ]
  },
  {
   "cell_type": "markdown",
   "id": "49159977",
   "metadata": {},
   "source": [
    "<br>"
   ]
  },
  {
   "cell_type": "markdown",
   "id": "037219d9",
   "metadata": {},
   "source": [
    "## Part IV: Final Model"
   ]
  },
  {
   "cell_type": "markdown",
   "id": "53e333e8",
   "metadata": {},
   "source": [
    "Based on all the models built in Part III, **Pruned Gradient Boosting Machine** appears to have the highest test score and least train-test gap. Hence, we will consider the same as our final model. <br>\n",
    "The model was tuned by setting the default loss and criterion parameters to \"absolute_error\" and learning rate to 0.15.<br>\n",
    "Below is a snapshot of the steps to create the entire model:"
   ]
  },
  {
   "cell_type": "code",
   "execution_count": 54,
   "id": "3bdef61d",
   "metadata": {},
   "outputs": [
    {
     "name": "stdout",
     "output_type": "stream",
     "text": [
      "\n",
      "\n",
      "Model Name:     Unpruned GBM\n",
      "Train_Score:    0.9\n",
      "Test_Score:     0.8\n",
      "Train-Test Gap: 0.1\n",
      "\n"
     ]
    }
   ],
   "source": [
    "#----------------------------------------------------------------------------#\n",
    "# STEP1: Defining a list of full set of X-variables:\n",
    "x_var_log_y_full = ['log_AVG_TIME_PER_SITE_VISIT', \n",
    "                 'TOTAL_MEALS_ORDERED', \n",
    "                 'AVG_MEAN_RATING', \n",
    "                 'LARGEST_ORDER_SIZE',\n",
    "                 'CONTACTS_W_CUSTOMER_SERVICE',\n",
    "                 'PRODUCT_CATEGORIES_VIEWED', \n",
    "                 'ORDERS_TO_LOGINS', \n",
    "                 'UNIQUE_TO_TOTAL' ,\n",
    "                 'CUST_SERV_TO_TOTAL' , \n",
    "                 'CANCEL_TO_TOTAL',\n",
    "                 'UNIQUE_MEALS_PURCH', \n",
    "                 'CANCELLATIONS_AFTER_NOON', \n",
    "                 'PC_LOGINS',\n",
    "                 'MOBILE_LOGINS',\n",
    "                 'WEEKLY_PLAN',\n",
    "                 'LATE_DELIVERIES', \n",
    "                 'AVG_PREP_VID_TIME', \n",
    "                 'TOTAL_PHOTOS_VIEWED', \n",
    "                 'Junk', 'Personal', 'Professional',\n",
    "                 'TOTAL_LOGINS', 'LATE_TO_TOTAL'\n",
    "                ]\n",
    "#----------------------------------------------------------------------------#\n",
    "#STEP2: Train-test Split:\n",
    "\n",
    "# preparing x-variables\n",
    "\n",
    "x1_data = chef.loc[ : , x_var_log_y_full ] \n",
    "\n",
    "\n",
    "# preparing y-variable\n",
    "y1_data = chef.loc[ : , 'log_REVENUE']    # y-variable \n",
    "\n",
    "# train-test split\n",
    "x_train, x_test, y_train, y_test = train_test_split(\n",
    "            x1_data,\n",
    "            y1_data,\n",
    "            test_size    = 0.25,\n",
    "            random_state = 219)\n",
    "\n",
    "\n",
    "\n",
    "#----------------------------------------------------------------------------#\n",
    "#STEP3: UNPRUNED GBM\n",
    "\n",
    "# specifying a model name\n",
    "model_name = 'Unpruned GBM'\n",
    "\n",
    "\n",
    "# INSTANTIATING the model object\n",
    "model = GradientBoostingRegressor(loss          = 'squared_error',\n",
    "                                  learning_rate = 0.1,\n",
    "                                  n_estimators  = 100,\n",
    "                                  criterion     = 'friedman_mse',\n",
    "                                  max_depth     = 3,\n",
    "                                  warm_start    = False,\n",
    "                                  random_state  = 219)\n",
    "\n",
    "\n",
    "# FITTING the training data\n",
    "model_fit = model.fit(x_train, y_train)\n",
    "\n",
    "\n",
    "# PREDICTING based on the testing set\n",
    "model_pred = model.predict(x_test)\n",
    "\n",
    "\n",
    "# SCORING the results\n",
    "model_train_score = model.score(x_train, y_train).round(2) # using R-square\n",
    "model_test_score  = model.score(x_test, y_test).round(2)   # using R-square\n",
    "model_gap         = abs(model_train_score - model_test_score).round(4)\n",
    "\n",
    "\n",
    "# dynamically printing results\n",
    "output_model =  f\"\"\"\\n\n",
    "Model Name:     {model_name}\n",
    "Train_Score:    {model_train_score}\n",
    "Test_Score:     {model_test_score}\n",
    "Train-Test Gap: {model_gap}\n",
    "\"\"\"\n",
    "print(output_model)\n",
    "\n"
   ]
  },
  {
   "cell_type": "code",
   "execution_count": 55,
   "id": "ff535848",
   "metadata": {},
   "outputs": [
    {
     "name": "stderr",
     "output_type": "stream",
     "text": [
      "/Users/rheakapoor/opt/anaconda3/lib/python3.9/site-packages/sklearn/ensemble/_gb.py:1854: FutureWarning: criterion='mae' was deprecated in version 0.24 and will be removed in version 1.1 (renaming of 0.26). The correct way of minimizing the absolute error is to use  loss='absolute_error' instead.\n",
      "  warnings.warn(\n"
     ]
    },
    {
     "name": "stdout",
     "output_type": "stream",
     "text": [
      "\n",
      "\n",
      "\u001b[1mModel Name:\u001b[0m      \u001b[1;32mFINAL MODEL - Pruned GRADIENT BOOSTING MACHINE\u001b[0m\n",
      "\u001b[1mTrain_Score:\u001b[0m     0.85\n",
      "\u001b[1mTest_Score: \u001b[0m     0.82\n",
      "\u001b[1mTrain-Test Gap:\u001b[0m  0.03\n",
      "\n"
     ]
    }
   ],
   "source": [
    "#----------------------------------------------------------------------------#\n",
    "#STEP4: PRUNED GRADIENT BOOSTING MACHINE \n",
    "# specifying a model name\n",
    "model_name = '\\033[1;32mFINAL MODEL - Pruned GRADIENT BOOSTING MACHINE\\033[0m'\n",
    "\n",
    "\n",
    "# INSTANTIATING the model object\n",
    "model = GradientBoostingRegressor(loss          = 'absolute_error',\n",
    "                                  learning_rate = 0.15,\n",
    "                                  n_estimators  = 100,\n",
    "                                  criterion     = 'absolute_error',\n",
    "                                  max_depth     = 3,\n",
    "                                  warm_start    = False,\n",
    "                                  random_state  = 219)\n",
    "\n",
    "\n",
    "# FITTING the training data\n",
    "model_fit = model.fit(x_train, y_train)\n",
    "\n",
    "\n",
    "# PREDICTING based on the testing set\n",
    "model_pred = model.predict(x_test)\n",
    "\n",
    "\n",
    "# SCORING the results\n",
    "model_train_score = model.score(x_train, y_train).round(2) # using R-square\n",
    "model_test_score  = model.score(x_test, y_test).round(2)   # using R-square\n",
    "model_gap         = abs(model_train_score - model_test_score).round(4)\n",
    "\n",
    "\n",
    "\n",
    "# dynamically printing results\n",
    "final_model =  f\"\"\"\\n\n",
    "\\033[1mModel Name:\\033[0m      {model_name}\n",
    "\\033[1mTrain_Score:\\033[0m     {model_train_score}\n",
    "\\033[1mTest_Score: \\033[0m     {model_test_score}\n",
    "\\033[1mTrain-Test Gap:\\033[0m  {model_gap}\n",
    "\"\"\"\n",
    "print(final_model)"
   ]
  }
 ],
 "metadata": {
  "kernelspec": {
   "display_name": "Python 3 (ipykernel)",
   "language": "python",
   "name": "python3"
  },
  "language_info": {
   "codemirror_mode": {
    "name": "ipython",
    "version": 3
   },
   "file_extension": ".py",
   "mimetype": "text/x-python",
   "name": "python",
   "nbconvert_exporter": "python",
   "pygments_lexer": "ipython3",
   "version": "3.9.13"
  },
  "toc": {
   "base_numbering": 1,
   "nav_menu": {},
   "number_sections": false,
   "sideBar": true,
   "skip_h1_title": false,
   "title_cell": "Table of Contents",
   "title_sidebar": "Contents",
   "toc_cell": false,
   "toc_position": {},
   "toc_section_display": true,
   "toc_window_display": false
  },
  "varInspector": {
   "cols": {
    "lenName": 16,
    "lenType": 16,
    "lenVar": 40
   },
   "kernels_config": {
    "python": {
     "delete_cmd_postfix": "",
     "delete_cmd_prefix": "del ",
     "library": "var_list.py",
     "varRefreshCmd": "print(var_dic_list())"
    },
    "r": {
     "delete_cmd_postfix": ") ",
     "delete_cmd_prefix": "rm(",
     "library": "var_list.r",
     "varRefreshCmd": "cat(var_dic_list()) "
    }
   },
   "types_to_exclude": [
    "module",
    "function",
    "builtin_function_or_method",
    "instance",
    "_Feature"
   ],
   "window_display": false
  }
 },
 "nbformat": 4,
 "nbformat_minor": 5
}
